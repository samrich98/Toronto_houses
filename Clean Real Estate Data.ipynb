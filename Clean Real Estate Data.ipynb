{
 "cells": [
  {
   "cell_type": "markdown",
   "id": "bbdb3b12",
   "metadata": {},
   "source": [
    "Now that we have all our houses data, we need to clean it as much as possible, and isolate the columns which are the best represented accross all the houses."
   ]
  },
  {
   "cell_type": "code",
   "execution_count": 1,
   "id": "b675d0b3",
   "metadata": {},
   "outputs": [],
   "source": [
    "# Import 3rd party libraries\",\n",
    "import os\n",
    "import pandas as pd\n",
    "\n",
    "# Configure Notebook\n",
    "import warnings\n",
    "warnings.filterwarnings('ignore')\n",
    "%config Completer.use_jedi = False"
   ]
  },
  {
   "cell_type": "code",
   "execution_count": 2,
   "id": "862c12f8",
   "metadata": {},
   "outputs": [],
   "source": [
    "# create dataframe of houses\n",
    "house_data = pd.read_csv('houses_data.csv')"
   ]
  },
  {
   "cell_type": "code",
   "execution_count": 3,
   "id": "81becc56",
   "metadata": {},
   "outputs": [],
   "source": [
    "# drop rows with no latitude\n",
    "house_data.dropna(subset=['propertyLat'], inplace=True)"
   ]
  },
  {
   "cell_type": "code",
   "execution_count": 4,
   "id": "71c73420",
   "metadata": {},
   "outputs": [],
   "source": [
    "# drop duplicates\n",
    "house_data.drop_duplicates(inplace=True)"
   ]
  },
  {
   "cell_type": "markdown",
   "id": "3c570111",
   "metadata": {},
   "source": [
    "Now that we have removed addresses with no location and any duplicates, we can look at which columns have the most and least null values."
   ]
  },
  {
   "cell_type": "code",
   "execution_count": 5,
   "id": "195a0e2d",
   "metadata": {},
   "outputs": [
    {
     "data": {
      "text/html": [
       "<div>\n",
       "<style scoped>\n",
       "    .dataframe tbody tr th:only-of-type {\n",
       "        vertical-align: middle;\n",
       "    }\n",
       "\n",
       "    .dataframe tbody tr th {\n",
       "        vertical-align: top;\n",
       "    }\n",
       "\n",
       "    .dataframe thead th {\n",
       "        text-align: right;\n",
       "    }\n",
       "</style>\n",
       "<table border=\"1\" class=\"dataframe\">\n",
       "  <thead>\n",
       "    <tr style=\"text-align: right;\">\n",
       "      <th></th>\n",
       "      <th>count</th>\n",
       "    </tr>\n",
       "  </thead>\n",
       "  <tbody>\n",
       "    <tr>\n",
       "      <th>Unnamed: 0</th>\n",
       "      <td>0</td>\n",
       "    </tr>\n",
       "    <tr>\n",
       "      <th>address</th>\n",
       "      <td>0</td>\n",
       "    </tr>\n",
       "    <tr>\n",
       "      <th>isResidentialProperty</th>\n",
       "      <td>0</td>\n",
       "    </tr>\n",
       "    <tr>\n",
       "      <th>propertyLat</th>\n",
       "      <td>0</td>\n",
       "    </tr>\n",
       "    <tr>\n",
       "      <th>propertyLng</th>\n",
       "      <td>0</td>\n",
       "    </tr>\n",
       "    <tr>\n",
       "      <th>...</th>\n",
       "      <td>...</td>\n",
       "    </tr>\n",
       "    <tr>\n",
       "      <th>Fireplaces (Total)</th>\n",
       "      <td>457943</td>\n",
       "    </tr>\n",
       "    <tr>\n",
       "      <th>Features for Disabled</th>\n",
       "      <td>457943</td>\n",
       "    </tr>\n",
       "    <tr>\n",
       "      <th>Assistive Features Remarks</th>\n",
       "      <td>457943</td>\n",
       "    </tr>\n",
       "    <tr>\n",
       "      <th>Community Name</th>\n",
       "      <td>457942</td>\n",
       "    </tr>\n",
       "    <tr>\n",
       "      <th>Management Company</th>\n",
       "      <td>457942</td>\n",
       "    </tr>\n",
       "  </tbody>\n",
       "</table>\n",
       "<p>460 rows × 1 columns</p>\n",
       "</div>"
      ],
      "text/plain": [
       "                             count\n",
       "Unnamed: 0                       0\n",
       "address                          0\n",
       "isResidentialProperty            0\n",
       "propertyLat                      0\n",
       "propertyLng                      0\n",
       "...                            ...\n",
       "Fireplaces (Total)          457943\n",
       "Features for Disabled       457943\n",
       "Assistive Features Remarks  457943\n",
       "Community Name              457942\n",
       "Management Company          457942\n",
       "\n",
       "[460 rows x 1 columns]"
      ]
     },
     "execution_count": 5,
     "metadata": {},
     "output_type": "execute_result"
    }
   ],
   "source": [
    "pd.DataFrame({'count': house_data.isnull().sum()})"
   ]
  },
  {
   "cell_type": "markdown",
   "id": "d8007d36",
   "metadata": {},
   "source": [
    "After much consideration into the amount of data gathere for each column type, and the potential importance of the information of each column, we ended up with the following 50 features which will be used for further analysis and for the future model."
   ]
  },
  {
   "cell_type": "code",
   "execution_count": 8,
   "id": "95f5cc74",
   "metadata": {},
   "outputs": [
    {
     "name": "stdout",
     "output_type": "stream",
     "text": [
      "<class 'pandas.core.frame.DataFrame'>\n",
      "Int64Index: 457944 entries, 0 to 983862\n",
      "Data columns (total 52 columns):\n",
      " #   Column                  Non-Null Count   Dtype  \n",
      "---  ------                  --------------   -----  \n",
      " 0   Unnamed: 0              457944 non-null  int64  \n",
      " 1   address                 457944 non-null  object \n",
      " 2   isResidentialProperty   457944 non-null  object \n",
      " 3   propertyLat             457944 non-null  object \n",
      " 4   propertyLng             457944 non-null  object \n",
      " 5   searchNeighborhood      457944 non-null  object \n",
      " 6   List Date               178047 non-null  object \n",
      " 7   Sold Price              137708 non-null  float64\n",
      " 8   Original Price          117492 non-null  float64\n",
      " 9   Type                    184957 non-null  object \n",
      " 10  Style                   183215 non-null  object \n",
      " 11  Size (sq ft)            48258 non-null   object \n",
      " 12  Age                     46102 non-null   object \n",
      " 13  Community               184958 non-null  object \n",
      " 14  List Price              173441 non-null  float64\n",
      " 15  Bedrooms                183103 non-null  float64\n",
      " 16  Bathrooms               184203 non-null  float64\n",
      " 17  Kitchens                182981 non-null  float64\n",
      " 18  Rooms                   181376 non-null  float64\n",
      " 19  Air Conditioning        165388 non-null  object \n",
      " 20  Fireplace               182973 non-null  object \n",
      " 21  Basement                184132 non-null  object \n",
      " 22  Heating                 184445 non-null  object \n",
      " 23  Exterior                183175 non-null  object \n",
      " 24  Exterior Features       51026 non-null   object \n",
      " 25  Driveway                179759 non-null  object \n",
      " 26  Garage                  184535 non-null  object \n",
      " 27  Parking Places          183500 non-null  float64\n",
      " 28  Covered Parking Places  181570 non-null  float64\n",
      " 29  Taxes                   163320 non-null  float64\n",
      " 30  Feature                 87446 non-null   object \n",
      " 31  Fronting On             181967 non-null  object \n",
      " 32  Frontage                171666 non-null  float64\n",
      " 33  Lot Depth               171599 non-null  float64\n",
      " 34  Pool                    179710 non-null  object \n",
      " 35  Sewer                   180706 non-null  object \n",
      " 36  Cross Street            184943 non-null  object \n",
      " 37  Municipality District   184959 non-null  object \n",
      " 38  Lot Code                113238 non-null  object \n",
      " 39  Bedrooms Plus           97048 non-null   float64\n",
      " 40  Gas                     21757 non-null   object \n",
      " 41  Waterfront              5092 non-null    object \n",
      " 42  Rooms Plus              129488 non-null  float64\n",
      " 43  Washrooms Type 3 # Pcs  41183 non-null   float64\n",
      " 44  Kitchens Plus           30175 non-null   float64\n",
      " 45  Parking Total           65450 non-null   float64\n",
      " 46  Furnished               20522 non-null   object \n",
      " 47  Laundry Access          7029 non-null    object \n",
      " 48  Private Entrance        20520 non-null   object \n",
      " 49  Lease Term              20113 non-null   object \n",
      " 50  Ensuite Laundry         2759 non-null    object \n",
      " 51  Property Type           1507 non-null    object \n",
      "dtypes: float64(17), int64(1), object(34)\n",
      "memory usage: 185.2+ MB\n"
     ]
    }
   ],
   "source": [
    "# create dataframe of houses\n",
    "house_data_final = house_data[['Unnamed: 0','address', 'isResidentialProperty', 'propertyLat', 'propertyLng', \n",
    "                              'searchNeighborhood', 'List Date', 'Sold Price', 'Original Price', 'Type', 'Style', \n",
    "                             'Size (sq ft)', 'Age', 'Community', 'List Price', 'Bedrooms', 'Bathrooms', 'Kitchens',\n",
    "                             'Rooms', 'Air Conditioning', 'Fireplace', 'Basement', 'Heating', 'Exterior', \n",
    "                             'Exterior Features', 'Driveway', 'Garage', 'Parking Places', 'Covered Parking Places',\n",
    "                             'Taxes', 'Feature', 'Fronting On', 'Frontage', 'Lot Depth', 'Pool', 'Sewer', \n",
    "                             'Cross Street', 'Municipality District', 'Lot Code', 'Bedrooms Plus', 'Gas',\n",
    "                               'Waterfront', 'Rooms Plus', 'Washrooms Type 3 # Pcs', 'Kitchens Plus',\n",
    "                               'Parking Total', 'Furnished', 'Laundry Access', 'Private Entrance', 'Lease Term',\n",
    "                               'Ensuite Laundry', 'Property Type']]\n",
    "\n",
    "house_data_final.info()"
   ]
  },
  {
   "cell_type": "markdown",
   "id": "e3b09ddd",
   "metadata": {},
   "source": [
    "Lets add this cleaned data into its own csv to create another checkpoint"
   ]
  },
  {
   "cell_type": "code",
   "execution_count": 20,
   "id": "29cf0db9",
   "metadata": {},
   "outputs": [],
   "source": [
    "house_data.to_csv('houses_data_final.csv')"
   ]
  },
  {
   "cell_type": "code",
   "execution_count": null,
   "id": "14f8bfe7",
   "metadata": {},
   "outputs": [],
   "source": []
  }
 ],
 "metadata": {
  "kernelspec": {
   "display_name": "Python 3 (ipykernel)",
   "language": "python",
   "name": "python3"
  },
  "language_info": {
   "codemirror_mode": {
    "name": "ipython",
    "version": 3
   },
   "file_extension": ".py",
   "mimetype": "text/x-python",
   "name": "python",
   "nbconvert_exporter": "python",
   "pygments_lexer": "ipython3",
   "version": "3.11.4"
  }
 },
 "nbformat": 4,
 "nbformat_minor": 5
}
