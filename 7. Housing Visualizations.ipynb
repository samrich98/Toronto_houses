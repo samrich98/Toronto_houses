{
 "cells": [
  {
   "cell_type": "markdown",
   "id": "eea4e350",
   "metadata": {},
   "source": [
    "From the final data file, let's create some visualizations to help us find some trends and build our model."
   ]
  },
  {
   "cell_type": "code",
   "execution_count": 1,
   "id": "b132d7bd",
   "metadata": {
    "ExecuteTime": {
     "end_time": "2023-12-05T04:05:45.389011Z",
     "start_time": "2023-12-05T04:05:45.382725Z"
    }
   },
   "outputs": [],
   "source": [
    "# Import 3rd party libraries\",\n",
    "import os\n",
    "import pandas as pd\n",
    "import matplotlib.pylab as plt\n",
    "\n",
    "import seaborn as sns\n",
    "import numpy as np\n",
    "\n",
    "# Configure Notebook\n",
    "import warnings\n",
    "warnings.filterwarnings('ignore')\n",
    "%config Completer.use_jedi = False"
   ]
  },
  {
   "cell_type": "code",
   "execution_count": 2,
   "id": "41682c5d",
   "metadata": {
    "ExecuteTime": {
     "end_time": "2023-12-05T04:05:46.150506Z",
     "start_time": "2023-12-05T04:05:45.394570Z"
    }
   },
   "outputs": [
    {
     "ename": "FileNotFoundError",
     "evalue": "[Errno 2] No such file or directory: 'this_is_the_completed_csv!.csv'",
     "output_type": "error",
     "traceback": [
      "\u001B[0;31m---------------------------------------------------------------------------\u001B[0m",
      "\u001B[0;31mFileNotFoundError\u001B[0m                         Traceback (most recent call last)",
      "Cell \u001B[0;32mIn[2], line 1\u001B[0m\n\u001B[0;32m----> 1\u001B[0m data \u001B[38;5;241m=\u001B[39m \u001B[43mpd\u001B[49m\u001B[38;5;241;43m.\u001B[39;49m\u001B[43mread_csv\u001B[49m\u001B[43m(\u001B[49m\u001B[38;5;124;43m'\u001B[39;49m\u001B[38;5;124;43mthis_is_the_completed_csv!.csv\u001B[39;49m\u001B[38;5;124;43m'\u001B[39;49m\u001B[43m)\u001B[49m \u001B[38;5;66;03m# read the csv and assign it to a variable\u001B[39;00m\n\u001B[1;32m      2\u001B[0m data \u001B[38;5;241m=\u001B[39m data\u001B[38;5;241m.\u001B[39mset_index(\u001B[38;5;124m'\u001B[39m\u001B[38;5;124maddress\u001B[39m\u001B[38;5;124m'\u001B[39m) \u001B[38;5;66;03m# set the index as the address\u001B[39;00m\n\u001B[1;32m      3\u001B[0m data\u001B[38;5;241m.\u001B[39minfo()\n",
      "File \u001B[0;32m~/Documents/School/UofT/MASC/Toronto_houses/lib/python3.8/site-packages/pandas/io/parsers/readers.py:912\u001B[0m, in \u001B[0;36mread_csv\u001B[0;34m(filepath_or_buffer, sep, delimiter, header, names, index_col, usecols, dtype, engine, converters, true_values, false_values, skipinitialspace, skiprows, skipfooter, nrows, na_values, keep_default_na, na_filter, verbose, skip_blank_lines, parse_dates, infer_datetime_format, keep_date_col, date_parser, date_format, dayfirst, cache_dates, iterator, chunksize, compression, thousands, decimal, lineterminator, quotechar, quoting, doublequote, escapechar, comment, encoding, encoding_errors, dialect, on_bad_lines, delim_whitespace, low_memory, memory_map, float_precision, storage_options, dtype_backend)\u001B[0m\n\u001B[1;32m    899\u001B[0m kwds_defaults \u001B[38;5;241m=\u001B[39m _refine_defaults_read(\n\u001B[1;32m    900\u001B[0m     dialect,\n\u001B[1;32m    901\u001B[0m     delimiter,\n\u001B[0;32m   (...)\u001B[0m\n\u001B[1;32m    908\u001B[0m     dtype_backend\u001B[38;5;241m=\u001B[39mdtype_backend,\n\u001B[1;32m    909\u001B[0m )\n\u001B[1;32m    910\u001B[0m kwds\u001B[38;5;241m.\u001B[39mupdate(kwds_defaults)\n\u001B[0;32m--> 912\u001B[0m \u001B[38;5;28;01mreturn\u001B[39;00m \u001B[43m_read\u001B[49m\u001B[43m(\u001B[49m\u001B[43mfilepath_or_buffer\u001B[49m\u001B[43m,\u001B[49m\u001B[43m \u001B[49m\u001B[43mkwds\u001B[49m\u001B[43m)\u001B[49m\n",
      "File \u001B[0;32m~/Documents/School/UofT/MASC/Toronto_houses/lib/python3.8/site-packages/pandas/io/parsers/readers.py:577\u001B[0m, in \u001B[0;36m_read\u001B[0;34m(filepath_or_buffer, kwds)\u001B[0m\n\u001B[1;32m    574\u001B[0m _validate_names(kwds\u001B[38;5;241m.\u001B[39mget(\u001B[38;5;124m\"\u001B[39m\u001B[38;5;124mnames\u001B[39m\u001B[38;5;124m\"\u001B[39m, \u001B[38;5;28;01mNone\u001B[39;00m))\n\u001B[1;32m    576\u001B[0m \u001B[38;5;66;03m# Create the parser.\u001B[39;00m\n\u001B[0;32m--> 577\u001B[0m parser \u001B[38;5;241m=\u001B[39m \u001B[43mTextFileReader\u001B[49m\u001B[43m(\u001B[49m\u001B[43mfilepath_or_buffer\u001B[49m\u001B[43m,\u001B[49m\u001B[43m \u001B[49m\u001B[38;5;241;43m*\u001B[39;49m\u001B[38;5;241;43m*\u001B[39;49m\u001B[43mkwds\u001B[49m\u001B[43m)\u001B[49m\n\u001B[1;32m    579\u001B[0m \u001B[38;5;28;01mif\u001B[39;00m chunksize \u001B[38;5;129;01mor\u001B[39;00m iterator:\n\u001B[1;32m    580\u001B[0m     \u001B[38;5;28;01mreturn\u001B[39;00m parser\n",
      "File \u001B[0;32m~/Documents/School/UofT/MASC/Toronto_houses/lib/python3.8/site-packages/pandas/io/parsers/readers.py:1407\u001B[0m, in \u001B[0;36mTextFileReader.__init__\u001B[0;34m(self, f, engine, **kwds)\u001B[0m\n\u001B[1;32m   1404\u001B[0m     \u001B[38;5;28mself\u001B[39m\u001B[38;5;241m.\u001B[39moptions[\u001B[38;5;124m\"\u001B[39m\u001B[38;5;124mhas_index_names\u001B[39m\u001B[38;5;124m\"\u001B[39m] \u001B[38;5;241m=\u001B[39m kwds[\u001B[38;5;124m\"\u001B[39m\u001B[38;5;124mhas_index_names\u001B[39m\u001B[38;5;124m\"\u001B[39m]\n\u001B[1;32m   1406\u001B[0m \u001B[38;5;28mself\u001B[39m\u001B[38;5;241m.\u001B[39mhandles: IOHandles \u001B[38;5;241m|\u001B[39m \u001B[38;5;28;01mNone\u001B[39;00m \u001B[38;5;241m=\u001B[39m \u001B[38;5;28;01mNone\u001B[39;00m\n\u001B[0;32m-> 1407\u001B[0m \u001B[38;5;28mself\u001B[39m\u001B[38;5;241m.\u001B[39m_engine \u001B[38;5;241m=\u001B[39m \u001B[38;5;28;43mself\u001B[39;49m\u001B[38;5;241;43m.\u001B[39;49m\u001B[43m_make_engine\u001B[49m\u001B[43m(\u001B[49m\u001B[43mf\u001B[49m\u001B[43m,\u001B[49m\u001B[43m \u001B[49m\u001B[38;5;28;43mself\u001B[39;49m\u001B[38;5;241;43m.\u001B[39;49m\u001B[43mengine\u001B[49m\u001B[43m)\u001B[49m\n",
      "File \u001B[0;32m~/Documents/School/UofT/MASC/Toronto_houses/lib/python3.8/site-packages/pandas/io/parsers/readers.py:1661\u001B[0m, in \u001B[0;36mTextFileReader._make_engine\u001B[0;34m(self, f, engine)\u001B[0m\n\u001B[1;32m   1659\u001B[0m     \u001B[38;5;28;01mif\u001B[39;00m \u001B[38;5;124m\"\u001B[39m\u001B[38;5;124mb\u001B[39m\u001B[38;5;124m\"\u001B[39m \u001B[38;5;129;01mnot\u001B[39;00m \u001B[38;5;129;01min\u001B[39;00m mode:\n\u001B[1;32m   1660\u001B[0m         mode \u001B[38;5;241m+\u001B[39m\u001B[38;5;241m=\u001B[39m \u001B[38;5;124m\"\u001B[39m\u001B[38;5;124mb\u001B[39m\u001B[38;5;124m\"\u001B[39m\n\u001B[0;32m-> 1661\u001B[0m \u001B[38;5;28mself\u001B[39m\u001B[38;5;241m.\u001B[39mhandles \u001B[38;5;241m=\u001B[39m \u001B[43mget_handle\u001B[49m\u001B[43m(\u001B[49m\n\u001B[1;32m   1662\u001B[0m \u001B[43m    \u001B[49m\u001B[43mf\u001B[49m\u001B[43m,\u001B[49m\n\u001B[1;32m   1663\u001B[0m \u001B[43m    \u001B[49m\u001B[43mmode\u001B[49m\u001B[43m,\u001B[49m\n\u001B[1;32m   1664\u001B[0m \u001B[43m    \u001B[49m\u001B[43mencoding\u001B[49m\u001B[38;5;241;43m=\u001B[39;49m\u001B[38;5;28;43mself\u001B[39;49m\u001B[38;5;241;43m.\u001B[39;49m\u001B[43moptions\u001B[49m\u001B[38;5;241;43m.\u001B[39;49m\u001B[43mget\u001B[49m\u001B[43m(\u001B[49m\u001B[38;5;124;43m\"\u001B[39;49m\u001B[38;5;124;43mencoding\u001B[39;49m\u001B[38;5;124;43m\"\u001B[39;49m\u001B[43m,\u001B[49m\u001B[43m \u001B[49m\u001B[38;5;28;43;01mNone\u001B[39;49;00m\u001B[43m)\u001B[49m\u001B[43m,\u001B[49m\n\u001B[1;32m   1665\u001B[0m \u001B[43m    \u001B[49m\u001B[43mcompression\u001B[49m\u001B[38;5;241;43m=\u001B[39;49m\u001B[38;5;28;43mself\u001B[39;49m\u001B[38;5;241;43m.\u001B[39;49m\u001B[43moptions\u001B[49m\u001B[38;5;241;43m.\u001B[39;49m\u001B[43mget\u001B[49m\u001B[43m(\u001B[49m\u001B[38;5;124;43m\"\u001B[39;49m\u001B[38;5;124;43mcompression\u001B[39;49m\u001B[38;5;124;43m\"\u001B[39;49m\u001B[43m,\u001B[49m\u001B[43m \u001B[49m\u001B[38;5;28;43;01mNone\u001B[39;49;00m\u001B[43m)\u001B[49m\u001B[43m,\u001B[49m\n\u001B[1;32m   1666\u001B[0m \u001B[43m    \u001B[49m\u001B[43mmemory_map\u001B[49m\u001B[38;5;241;43m=\u001B[39;49m\u001B[38;5;28;43mself\u001B[39;49m\u001B[38;5;241;43m.\u001B[39;49m\u001B[43moptions\u001B[49m\u001B[38;5;241;43m.\u001B[39;49m\u001B[43mget\u001B[49m\u001B[43m(\u001B[49m\u001B[38;5;124;43m\"\u001B[39;49m\u001B[38;5;124;43mmemory_map\u001B[39;49m\u001B[38;5;124;43m\"\u001B[39;49m\u001B[43m,\u001B[49m\u001B[43m \u001B[49m\u001B[38;5;28;43;01mFalse\u001B[39;49;00m\u001B[43m)\u001B[49m\u001B[43m,\u001B[49m\n\u001B[1;32m   1667\u001B[0m \u001B[43m    \u001B[49m\u001B[43mis_text\u001B[49m\u001B[38;5;241;43m=\u001B[39;49m\u001B[43mis_text\u001B[49m\u001B[43m,\u001B[49m\n\u001B[1;32m   1668\u001B[0m \u001B[43m    \u001B[49m\u001B[43merrors\u001B[49m\u001B[38;5;241;43m=\u001B[39;49m\u001B[38;5;28;43mself\u001B[39;49m\u001B[38;5;241;43m.\u001B[39;49m\u001B[43moptions\u001B[49m\u001B[38;5;241;43m.\u001B[39;49m\u001B[43mget\u001B[49m\u001B[43m(\u001B[49m\u001B[38;5;124;43m\"\u001B[39;49m\u001B[38;5;124;43mencoding_errors\u001B[39;49m\u001B[38;5;124;43m\"\u001B[39;49m\u001B[43m,\u001B[49m\u001B[43m \u001B[49m\u001B[38;5;124;43m\"\u001B[39;49m\u001B[38;5;124;43mstrict\u001B[39;49m\u001B[38;5;124;43m\"\u001B[39;49m\u001B[43m)\u001B[49m\u001B[43m,\u001B[49m\n\u001B[1;32m   1669\u001B[0m \u001B[43m    \u001B[49m\u001B[43mstorage_options\u001B[49m\u001B[38;5;241;43m=\u001B[39;49m\u001B[38;5;28;43mself\u001B[39;49m\u001B[38;5;241;43m.\u001B[39;49m\u001B[43moptions\u001B[49m\u001B[38;5;241;43m.\u001B[39;49m\u001B[43mget\u001B[49m\u001B[43m(\u001B[49m\u001B[38;5;124;43m\"\u001B[39;49m\u001B[38;5;124;43mstorage_options\u001B[39;49m\u001B[38;5;124;43m\"\u001B[39;49m\u001B[43m,\u001B[49m\u001B[43m \u001B[49m\u001B[38;5;28;43;01mNone\u001B[39;49;00m\u001B[43m)\u001B[49m\u001B[43m,\u001B[49m\n\u001B[1;32m   1670\u001B[0m \u001B[43m\u001B[49m\u001B[43m)\u001B[49m\n\u001B[1;32m   1671\u001B[0m \u001B[38;5;28;01massert\u001B[39;00m \u001B[38;5;28mself\u001B[39m\u001B[38;5;241m.\u001B[39mhandles \u001B[38;5;129;01mis\u001B[39;00m \u001B[38;5;129;01mnot\u001B[39;00m \u001B[38;5;28;01mNone\u001B[39;00m\n\u001B[1;32m   1672\u001B[0m f \u001B[38;5;241m=\u001B[39m \u001B[38;5;28mself\u001B[39m\u001B[38;5;241m.\u001B[39mhandles\u001B[38;5;241m.\u001B[39mhandle\n",
      "File \u001B[0;32m~/Documents/School/UofT/MASC/Toronto_houses/lib/python3.8/site-packages/pandas/io/common.py:859\u001B[0m, in \u001B[0;36mget_handle\u001B[0;34m(path_or_buf, mode, encoding, compression, memory_map, is_text, errors, storage_options)\u001B[0m\n\u001B[1;32m    854\u001B[0m \u001B[38;5;28;01melif\u001B[39;00m \u001B[38;5;28misinstance\u001B[39m(handle, \u001B[38;5;28mstr\u001B[39m):\n\u001B[1;32m    855\u001B[0m     \u001B[38;5;66;03m# Check whether the filename is to be opened in binary mode.\u001B[39;00m\n\u001B[1;32m    856\u001B[0m     \u001B[38;5;66;03m# Binary mode does not support 'encoding' and 'newline'.\u001B[39;00m\n\u001B[1;32m    857\u001B[0m     \u001B[38;5;28;01mif\u001B[39;00m ioargs\u001B[38;5;241m.\u001B[39mencoding \u001B[38;5;129;01mand\u001B[39;00m \u001B[38;5;124m\"\u001B[39m\u001B[38;5;124mb\u001B[39m\u001B[38;5;124m\"\u001B[39m \u001B[38;5;129;01mnot\u001B[39;00m \u001B[38;5;129;01min\u001B[39;00m ioargs\u001B[38;5;241m.\u001B[39mmode:\n\u001B[1;32m    858\u001B[0m         \u001B[38;5;66;03m# Encoding\u001B[39;00m\n\u001B[0;32m--> 859\u001B[0m         handle \u001B[38;5;241m=\u001B[39m \u001B[38;5;28;43mopen\u001B[39;49m\u001B[43m(\u001B[49m\n\u001B[1;32m    860\u001B[0m \u001B[43m            \u001B[49m\u001B[43mhandle\u001B[49m\u001B[43m,\u001B[49m\n\u001B[1;32m    861\u001B[0m \u001B[43m            \u001B[49m\u001B[43mioargs\u001B[49m\u001B[38;5;241;43m.\u001B[39;49m\u001B[43mmode\u001B[49m\u001B[43m,\u001B[49m\n\u001B[1;32m    862\u001B[0m \u001B[43m            \u001B[49m\u001B[43mencoding\u001B[49m\u001B[38;5;241;43m=\u001B[39;49m\u001B[43mioargs\u001B[49m\u001B[38;5;241;43m.\u001B[39;49m\u001B[43mencoding\u001B[49m\u001B[43m,\u001B[49m\n\u001B[1;32m    863\u001B[0m \u001B[43m            \u001B[49m\u001B[43merrors\u001B[49m\u001B[38;5;241;43m=\u001B[39;49m\u001B[43merrors\u001B[49m\u001B[43m,\u001B[49m\n\u001B[1;32m    864\u001B[0m \u001B[43m            \u001B[49m\u001B[43mnewline\u001B[49m\u001B[38;5;241;43m=\u001B[39;49m\u001B[38;5;124;43m\"\u001B[39;49m\u001B[38;5;124;43m\"\u001B[39;49m\u001B[43m,\u001B[49m\n\u001B[1;32m    865\u001B[0m \u001B[43m        \u001B[49m\u001B[43m)\u001B[49m\n\u001B[1;32m    866\u001B[0m     \u001B[38;5;28;01melse\u001B[39;00m:\n\u001B[1;32m    867\u001B[0m         \u001B[38;5;66;03m# Binary mode\u001B[39;00m\n\u001B[1;32m    868\u001B[0m         handle \u001B[38;5;241m=\u001B[39m \u001B[38;5;28mopen\u001B[39m(handle, ioargs\u001B[38;5;241m.\u001B[39mmode)\n",
      "\u001B[0;31mFileNotFoundError\u001B[0m: [Errno 2] No such file or directory: 'this_is_the_completed_csv!.csv'"
     ]
    }
   ],
   "source": [
    "data = pd.read_csv('this_is_the_completed_csv!.csv') # read the csv and assign it to a variable\n",
    "data = data.set_index('address') # set the index as the address\n",
    "data.info()"
   ]
  },
  {
   "cell_type": "markdown",
   "id": "46869240",
   "metadata": {},
   "source": [
    "Let's see how the type of house influences the price"
   ]
  },
  {
   "cell_type": "code",
   "execution_count": null,
   "id": "bde5c9e1",
   "metadata": {
    "ExecuteTime": {
     "start_time": "2023-12-05T04:05:46.154450Z"
    }
   },
   "outputs": [],
   "source": [
    "temp_y = [data[data['T_Detached'] == 1]['Price'].mean(),\n",
    "        data[data['T_Semi-Detached'] == 1]['Price'].mean(),\n",
    "        data[(data['T_Detached'] == 0) & (data['T_Semi-Detached'] == 0) & (data['T_other'] == 0)]['Price'].mean(),\n",
    "        data[data['T_other'] == 1]['Price'].mean()]\n",
    "\n",
    "temp_x = ['Detached', 'Semi-Detached', 'Condo', 'Other']\n",
    "\n",
    "plt.title('Distribution of Average Prices for Each House Type')\n",
    "plt.xlabel('Type')\n",
    "plt.ylabel('Price')\n",
    "\n",
    "sns.barplot(x = temp_x, y = temp_y)\n",
    "plt.show()"
   ]
  },
  {
   "cell_type": "markdown",
   "id": "0e582833",
   "metadata": {},
   "source": [
    "Plot Rooms vs the Price.  Seems like there are some outliers with 0 rooms, lets see how many, maybe they need to be filtered out at some point."
   ]
  },
  {
   "cell_type": "code",
   "execution_count": null,
   "id": "22f2419a",
   "metadata": {
    "ExecuteTime": {
     "start_time": "2023-12-05T04:05:46.158740Z"
    }
   },
   "outputs": [],
   "source": [
    "ax = sns.scatterplot(data = data, x = 'Rooms', y = 'Price')\n",
    "plt.title('Rooms vs Price')\n",
    "plt.show()\n",
    "print('Number of houses with no rooms is ' + str(len(data[data['Rooms'] == 0])))"
   ]
  },
  {
   "cell_type": "markdown",
   "id": "c8a01c81",
   "metadata": {},
   "source": [
    "Plot Bathrooms vs the Price.  Seems like there are also some outliers with 0 bathrooms, lets see how many, maybe they need to be filtered out at some point."
   ]
  },
  {
   "cell_type": "code",
   "execution_count": null,
   "id": "89ae952c",
   "metadata": {
    "ExecuteTime": {
     "start_time": "2023-12-05T04:05:46.162888Z"
    }
   },
   "outputs": [],
   "source": [
    "sns.scatterplot(data = data, x = 'Bathrooms', y = 'Price')\n",
    "plt.title('Bathrooms vs Price')\n",
    "plt.show()\n",
    "print('Number of houses with no bathrooms is ' + str(len(data[data['Bathrooms'] == 0])))"
   ]
  },
  {
   "cell_type": "markdown",
   "id": "8e4d05a8",
   "metadata": {},
   "source": [
    "Plot Kitchens vs the Price.  Seems like there are also some outliers with 0 kitchens, lets see how many, maybe they need to be filtered out at some point."
   ]
  },
  {
   "cell_type": "code",
   "execution_count": null,
   "id": "e6326c2a",
   "metadata": {
    "scrolled": false,
    "ExecuteTime": {
     "start_time": "2023-12-05T04:05:46.167533Z"
    }
   },
   "outputs": [],
   "source": [
    "sns.scatterplot(data = data, x = 'Kitchens', y = 'Price')\n",
    "plt.title('Kitchens vs Price')\n",
    "plt.show()\n",
    "print('Number of houses with no kitchens is ' + str(len(data[data['Kitchens'] == 0])))"
   ]
  },
  {
   "cell_type": "markdown",
   "id": "67f7b6ec",
   "metadata": {},
   "source": [
    "Plot Bedrooms vs the Price.  Seems like there are also some outliers with 0 bedrooms, lets see how many, maybe they need to be filtered out at some point."
   ]
  },
  {
   "cell_type": "code",
   "execution_count": null,
   "id": "8a312f3a",
   "metadata": {
    "scrolled": false,
    "ExecuteTime": {
     "start_time": "2023-12-05T04:05:46.172327Z"
    }
   },
   "outputs": [],
   "source": [
    "sns.scatterplot(data = data[data['Bedrooms'] > 0], x = 'Bedrooms', y = 'Price')\n",
    "plt.title('Bedrooms vs Price')\n",
    "plt.show()\n",
    "print('Number of houses with no bedrooms is ' + str(len(data[data['Bedrooms'] == 0])))"
   ]
  },
  {
   "cell_type": "markdown",
   "id": "028ba44d",
   "metadata": {},
   "source": [
    "Plot Basement types for each plot.  Lots of variation in the zero basements.  Some slight trends."
   ]
  },
  {
   "cell_type": "code",
   "execution_count": null,
   "id": "e5278259",
   "metadata": {
    "ExecuteTime": {
     "start_time": "2023-12-05T04:05:46.176894Z"
    }
   },
   "outputs": [],
   "source": [
    "sns.barplot(data = data, x = 'Basement', y = 'Price')\n",
    "len(data[data['Basement'] == 0])\n",
    "plt.title('Basement type vs Price')\n",
    "plt.show()"
   ]
  },
  {
   "cell_type": "markdown",
   "id": "7495892a",
   "metadata": {},
   "source": [
    "Lets look at the number of parking spots vs price.  Once again, 0 has a large variation, but overall it doesn't seem like parking tells us much."
   ]
  },
  {
   "cell_type": "code",
   "execution_count": null,
   "id": "0fadff91",
   "metadata": {
    "ExecuteTime": {
     "start_time": "2023-12-05T04:05:46.182777Z"
    }
   },
   "outputs": [],
   "source": [
    "sns.barplot(data = data, x = 'Parking', y = 'Price')\n",
    "plt.title('Number of Parking spots')\n",
    "plt.show()"
   ]
  },
  {
   "cell_type": "markdown",
   "id": "ba72547f",
   "metadata": {},
   "source": [
    "If we can compare houses with and without fireplaces, there is a large difference between the prices."
   ]
  },
  {
   "cell_type": "code",
   "execution_count": null,
   "id": "65c32ab6",
   "metadata": {
    "ExecuteTime": {
     "start_time": "2023-12-05T04:05:46.187315Z"
    }
   },
   "outputs": [],
   "source": [
    "sns.barplot(data = data, x = 'Fireplace', y = 'Price')\n",
    "plt.title('Mean Price of Fireplace vs no Fireplace')\n",
    "plt.show()"
   ]
  },
  {
   "cell_type": "markdown",
   "id": "da0ebea7",
   "metadata": {},
   "source": [
    "There is maybe not as much of a difference between houses with and without pools."
   ]
  },
  {
   "cell_type": "code",
   "execution_count": null,
   "id": "850b26ce",
   "metadata": {
    "ExecuteTime": {
     "start_time": "2023-12-05T04:05:46.191500Z"
    }
   },
   "outputs": [],
   "source": [
    "sns.barplot(data = data, x = 'Pool', y = 'Price')\n",
    "plt.title('Mean Price of houses with a Pool vs without a Pool')\n",
    "plt.show()"
   ]
  },
  {
   "cell_type": "markdown",
   "id": "8b1087e4",
   "metadata": {},
   "source": [
    "If we look at the influence of being near the waterfront, we can see a slight increase in price near the water front, but there is also a lot of variation."
   ]
  },
  {
   "cell_type": "code",
   "execution_count": null,
   "id": "669706c3",
   "metadata": {
    "ExecuteTime": {
     "end_time": "2023-12-05T04:05:46.248655Z",
     "start_time": "2023-12-05T04:05:46.195028Z"
    }
   },
   "outputs": [],
   "source": [
    "sns.barplot(data = data, x = 'Waterfront', y = 'Price')\n",
    "plt.title('Mean Price of Houses with no access to the Waterfront, vs Partial Access, vs Access')\n",
    "plt.show()"
   ]
  },
  {
   "cell_type": "markdown",
   "id": "08b5eab4",
   "metadata": {},
   "source": [
    "Houses with some sort of feature seem to have an increased mean price as well, but nothing too significant."
   ]
  },
  {
   "cell_type": "code",
   "execution_count": null,
   "id": "134b6881",
   "metadata": {
    "ExecuteTime": {
     "start_time": "2023-12-05T04:05:46.198054Z"
    }
   },
   "outputs": [],
   "source": [
    "sns.barplot(data = data, x = 'Feature', y = 'Price')\n",
    "plt.title('Mean Price of Houses without at least one feature vs with at least one feature')\n",
    "plt.show()"
   ]
  },
  {
   "cell_type": "markdown",
   "id": "dec660eb",
   "metadata": {},
   "source": [
    "Intuitively, it would seem as if size has a big influence over price, let's see if that's true."
   ]
  },
  {
   "cell_type": "code",
   "execution_count": null,
   "id": "35a1226e",
   "metadata": {
    "ExecuteTime": {
     "start_time": "2023-12-05T04:05:46.201795Z"
    }
   },
   "outputs": [],
   "source": [
    "sns.scatterplot(data, x = data['Size'], y = data['Price'])\n",
    "plt.title('Size vs Mean Price of Houses')\n",
    "plt.show()"
   ]
  },
  {
   "cell_type": "markdown",
   "id": "603f7497",
   "metadata": {},
   "source": [
    "It seems like there are some houses which are much large than others.  Let's investigate a bit."
   ]
  },
  {
   "cell_type": "code",
   "execution_count": null,
   "id": "e5c3906a",
   "metadata": {
    "ExecuteTime": {
     "start_time": "2023-12-05T04:05:46.204268Z"
    }
   },
   "outputs": [],
   "source": [
    "print('Number of houses with a size greater than 1000 is ' + str(len(data[data['Size']>1000])))\n",
    "data[data['Size']>1000]['Size'].head(14) #Print the Houses"
   ]
  },
  {
   "cell_type": "markdown",
   "id": "afd9174c",
   "metadata": {},
   "source": [
    "If we plot a barplot of the price using different bins of sizes we can see a clear trend until about 450, then it drops a bit, then there is a large jump up to 550.  We can roughly see what would be considered a small vs medium house on the market, and then it is quite clear what is a large house."
   ]
  },
  {
   "cell_type": "code",
   "execution_count": null,
   "id": "6837d596",
   "metadata": {
    "ExecuteTime": {
     "start_time": "2023-12-05T04:05:46.207221Z"
    }
   },
   "outputs": [],
   "source": [
    "# Divide the houses into different bins based off their size\n",
    "temp_y = [data[data['Size'] < 50]['Price'].mean(),\n",
    "        data[(data['Size'] > 50) & (data['Size'] < 100)]['Price'].mean(),\n",
    "        data[(data['Size'] > 100) & (data['Size'] < 150)]['Price'].mean(),\n",
    "        data[(data['Size'] > 150) & (data['Size'] < 200)]['Price'].mean(),\n",
    "         data[(data['Size'] > 200) & (data['Size'] < 250)]['Price'].mean(),\n",
    "         data[(data['Size'] > 250) & (data['Size'] < 300)]['Price'].mean(),\n",
    "         data[(data['Size'] > 300) & (data['Size'] < 350)]['Price'].mean(),\n",
    "         data[(data['Size'] > 350) & (data['Size'] < 400)]['Price'].mean(),\n",
    "         data[(data['Size'] > 400) & (data['Size'] < 450)]['Price'].mean(),\n",
    "         data[(data['Size'] > 450) & (data['Size'] < 500)]['Price'].mean(),\n",
    "         data[(data['Size'] > 500) & (data['Size'] < 550)]['Price'].mean(),\n",
    "         data[(data['Size'] > 550) & (data['Size'] < 600)]['Price'].mean(),\n",
    "         data[(data['Size'] > 600) & (data['Size'] < 650)]['Price'].mean(),\n",
    "         data[(data['Size'] > 650) & (data['Size'] < 1000)]['Price'].mean()]\n",
    "\n",
    "temp_x = ['<50', '50-100', '100-150', '150-200', '200-250', '250-300', '300-350', '350-400', '400-450', '450-500',\n",
    "          '500-550', '550-600', '600-650', '650-1000']\n",
    "\n",
    "ax = sns.barplot(x = temp_x, y = temp_y)\n",
    "ax.tick_params(axis='x', rotation=90)\n",
    "plt.title('Size vs Mean Price of Houses')\n",
    "plt.xlabel('Size')\n",
    "plt.ylabel('Price')\n",
    "plt.show()"
   ]
  },
  {
   "cell_type": "markdown",
   "id": "0208a5c9",
   "metadata": {},
   "source": [
    "Finally, lets look to see if the fronting, or way the house faces, influences the mean prince significantly. We can see from the barplot that there is not much of an influence."
   ]
  },
  {
   "cell_type": "code",
   "execution_count": null,
   "id": "56776e70",
   "metadata": {
    "ExecuteTime": {
     "start_time": "2023-12-05T04:05:46.211422Z"
    }
   },
   "outputs": [],
   "source": [
    "temp_y = [data[data['Front_E'] == 1]['Price'].mean(),\n",
    "        data[data['Front_S'] == 1]['Price'].mean(),\n",
    "        data[data['Front_W'] == 1]['Price'].mean(),\n",
    "        data[(data['Front_E'] == 0) & (data['Front_S'] == 0) & (data['Front_W'] == 0)]['Price'].mean()]\n",
    "\n",
    "temp_x = ['Front E', 'Front S','Front W', 'Front N']\n",
    "\n",
    "sns.barplot(x = temp_x, y = temp_y)\n",
    "plt.title('Fronting Direction vs Mean Price of Houses')\n",
    "plt.xlabel('Fronting Direction')\n",
    "plt.ylabel('Price')\n",
    "plt.show()"
   ]
  },
  {
   "cell_type": "markdown",
   "source": [
    "Visualization for the data collected"
   ],
   "metadata": {
    "collapsed": false
   },
   "id": "1b506efd4f353d5e"
  },
  {
   "cell_type": "code",
   "execution_count": null,
   "outputs": [],
   "source": [
    "plt.bar(['Initial Data Set', 'Clean Data', 'Reduce Scope and \\nFeature Engineering', 'Final Model'], [525919, 346211, 178048, 50575], [0.9, 0.1, 0.04, 0.14]) \n",
    "\n",
    "plt.xlabel(\"Stage of Data Processing (Width of bar is proportional to number of features)\") \n",
    "plt.ylabel(\"Number of Data Points\") \n",
    "plt.title(\"Progressiong of Data Set Size and Features during Data Processing\") \n",
    "plt.show()"
   ],
   "metadata": {
    "collapsed": false,
    "ExecuteTime": {
     "start_time": "2023-12-05T04:05:46.213866Z"
    }
   },
   "id": "e51d2c58d8ebde28"
  }
 ],
 "metadata": {
  "kernelspec": {
   "display_name": "Python 3 (ipykernel)",
   "language": "python",
   "name": "python3"
  },
  "language_info": {
   "codemirror_mode": {
    "name": "ipython",
    "version": 3
   },
   "file_extension": ".py",
   "mimetype": "text/x-python",
   "name": "python",
   "nbconvert_exporter": "python",
   "pygments_lexer": "ipython3",
   "version": "3.11.4"
  }
 },
 "nbformat": 4,
 "nbformat_minor": 5
}
