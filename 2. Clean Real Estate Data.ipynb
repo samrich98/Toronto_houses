{
 "cells": [
  {
   "cell_type": "markdown",
   "id": "bbdb3b12",
   "metadata": {},
   "source": [
    "Now that we have all our houses data, we need to clean it as much as possible, and isolate the columns which are the best represented accross all the houses."
   ]
  },
  {
   "cell_type": "code",
   "execution_count": null,
   "id": "b675d0b3",
   "metadata": {},
   "outputs": [],
   "source": [
    "# Import 3rd party libraries\",\n",
    "import os\n",
    "import pandas as pd\n",
    "\n",
    "# Configure Notebook\n",
    "import warnings\n",
    "warnings.filterwarnings('ignore')\n",
    "%config Completer.use_jedi = False"
   ]
  },
  {
   "cell_type": "code",
   "execution_count": null,
   "id": "862c12f8",
   "metadata": {},
   "outputs": [],
   "source": [
    "# create dataframe of houses\n",
    "house_data = pd.read_csv('houses_data.csv')\n",
    "house_data.head()"
   ]
  },
  {
   "cell_type": "code",
   "execution_count": null,
   "id": "81becc56",
   "metadata": {},
   "outputs": [],
   "source": [
    "# convert longitudes and latitudes into floats and drop rows with no latitude\n",
    "house_data['propertyLng'] = house_data['propertyLng'].str.strip(\"\\\",\")\n",
    "house_data['propertyLat'] = house_data['propertyLat'].str.strip(\"\\\",\")\n",
    "\n",
    "house_data = house_data[(house_data['propertyLng'] != '\"\",') | (house_data['propertyLat'] != '')]\n",
    "\n",
    "house_data['propertyLng'] = house_data['propertyLng'].astype(float)\n",
    "house_data['propertyLat'] = house_data['propertyLat'].astype(float)"
   ]
  },
  {
   "cell_type": "code",
   "execution_count": null,
   "id": "71c73420",
   "metadata": {},
   "outputs": [],
   "source": [
    "# drop duplicates\n",
    "house_data.drop_duplicates(inplace=True)\n",
    "house_data.head()"
   ]
  },
  {
   "cell_type": "markdown",
   "id": "3c570111",
   "metadata": {},
   "source": [
    "Now that we have removed addresses with no location and any duplicates, we can look at which columns have the most and least null values."
   ]
  },
  {
   "cell_type": "code",
   "execution_count": null,
   "id": "195a0e2d",
   "metadata": {},
   "outputs": [],
   "source": [
    "pd.DataFrame({'count': house_data.isnull().sum()})"
   ]
  },
  {
   "cell_type": "markdown",
   "id": "d8007d36",
   "metadata": {},
   "source": [
    "After much consideration into the amount of data gathere for each column type, and the potential importance of the information of each column, we ended up with the following 50 features which will be used for further analysis and for the future model."
   ]
  },
  {
   "cell_type": "code",
   "execution_count": null,
   "id": "95f5cc74",
   "metadata": {},
   "outputs": [],
   "source": [
    "# create dataframe of houses\n",
    "house_data_final = house_data[['Unnamed: 0','address', 'isResidentialProperty', 'propertyLat', 'propertyLng', \n",
    "                              'searchNeighborhood', 'List Date', 'Sold Price', 'Original Price', 'Type', 'Style', \n",
    "                             'Size (sq ft)', 'Age', 'Community', 'List Price', 'Bedrooms', 'Bathrooms', 'Kitchens',\n",
    "                             'Rooms', 'Air Conditioning', 'Fireplace', 'Basement', 'Heating', 'Exterior', \n",
    "                             'Exterior Features', 'Driveway', 'Garage', 'Parking Places', 'Covered Parking Places',\n",
    "                             'Taxes', 'Feature', 'Fronting On', 'Frontage', 'Lot Depth', 'Pool', 'Sewer', \n",
    "                             'Cross Street', 'Municipality District', 'Lot Code', 'Bedrooms Plus', 'Gas',\n",
    "                               'Waterfront', 'Rooms Plus', 'Washrooms Type 3 # Pcs', 'Kitchens Plus',\n",
    "                               'Parking Total', 'Furnished', 'Laundry Access', 'Private Entrance', 'Lease Term',\n",
    "                               'Ensuite Laundry', 'Property Type']]\n",
    "\n",
    "house_data_final.info()"
   ]
  },
  {
   "cell_type": "markdown",
   "id": "abf8acbc",
   "metadata": {},
   "source": [
    "First, to narrow the scope of this project, we will only look at residential properties. As well, since our analysis will be temporal, lets get rid of houses with no list date."
   ]
  },
  {
   "cell_type": "code",
   "execution_count": null,
   "id": "df3ad144",
   "metadata": {},
   "outputs": [],
   "source": [
    "# Drop isResidentialProperty = False values\n",
    "house_data_final = house_data_final[house_data['isResidentialProperty'] == 'true,']\n",
    "house_data_final = house_data_final.dropna(subset = 'List Date')"
   ]
  },
  {
   "cell_type": "code",
   "execution_count": null,
   "id": "137f50fa",
   "metadata": {},
   "outputs": [],
   "source": [
    "house_data_final = house_data_final[(house_data_final['List Date'].str.contains('2023')) |\n",
    "                                   (house_data_final['List Date'].str.contains('2022')) |\n",
    "                                   (house_data_final['List Date'].str.contains('2021')) |\n",
    "                                   (house_data_final['List Date'].str.contains('2020')) |\n",
    "                                   (house_data_final['List Date'].str.contains('2019')) |\n",
    "                                   (house_data_final['List Date'].str.contains('2018')) |\n",
    "                                   (house_data_final['List Date'].str.contains('2017')) |\n",
    "                                   (house_data_final['List Date'].str.contains('2016')) |\n",
    "                                   (house_data_final['List Date'].str.contains('2015')) |\n",
    "                                   (house_data_final['List Date'].str.contains('2014')) |\n",
    "                                   (house_data_final['List Date'].str.contains('2013'))]"
   ]
  },
  {
   "cell_type": "markdown",
   "id": "e3b09ddd",
   "metadata": {},
   "source": [
    "Lets add this cleaned data into its own csv to create another checkpoint"
   ]
  },
  {
   "cell_type": "code",
   "execution_count": null,
   "id": "29cf0db9",
   "metadata": {},
   "outputs": [],
   "source": [
    "house_data_final.to_csv('houses_data_final.csv')"
   ]
  },
  {
   "cell_type": "code",
   "execution_count": null,
   "id": "1ccf6cac",
   "metadata": {},
   "outputs": [],
   "source": []
  }
 ],
 "metadata": {
  "kernelspec": {
   "display_name": "Python 3 (ipykernel)",
   "language": "python",
   "name": "python3"
  },
  "language_info": {
   "codemirror_mode": {
    "name": "ipython",
    "version": 3
   },
   "file_extension": ".py",
   "mimetype": "text/x-python",
   "name": "python",
   "nbconvert_exporter": "python",
   "pygments_lexer": "ipython3",
   "version": "3.11.4"
  }
 },
 "nbformat": 4,
 "nbformat_minor": 5
}
