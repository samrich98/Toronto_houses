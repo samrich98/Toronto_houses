{
 "cells": [
  {
   "cell_type": "markdown",
   "id": "bbdb3b12",
   "metadata": {},
   "source": [
    "Now that we have all our houses data, we need to clean it as much as possible, and isolate the columns which are the best represented across all the houses."
   ]
  },
  {
   "cell_type": "code",
   "execution_count": 11,
   "id": "b675d0b3",
   "metadata": {
    "ExecuteTime": {
     "end_time": "2023-12-06T21:16:49.618766Z",
     "start_time": "2023-12-06T21:16:49.564825Z"
    }
   },
   "outputs": [],
   "source": [
    "# Import 3rd party libraries\",\n",
    "import os\n",
    "import pandas as pd\n",
    "\n",
    "# Configure Notebook\n",
    "import warnings\n",
    "warnings.filterwarnings('ignore')\n",
    "%config Completer.use_jedi = False"
   ]
  },
  {
   "cell_type": "markdown",
   "source": [
    "If you would like to use more housing data, use the house_data.csv.  It has been pre-cleaned to satisfy the file size requirements of github. save-0-10,000.csv are the first 10,000 data points which are returned from the scraping process.  You can uncomment this line if you are interested to see this notebook clean pure raw data."
   ],
   "metadata": {
    "collapsed": false
   },
   "id": "50a77ab3fbfa4a84"
  },
  {
   "cell_type": "code",
   "execution_count": 12,
   "outputs": [
    {
     "data": {
      "text/plain": "   Unnamed: 0.1  Unnamed: 0             address isResidentialProperty  \\\n0             2           2  82-riverdale-drive                 true,   \n1            15          15  185-honiton-street                 true,   \n2            18          18    75-mcadam-avenue                 true,   \n3            20          20    155-mercury-road                 true,   \n4            24          24   227-woburn-avenue                 true,   \n\n  propertyLat  propertyLng searchNeighborhood               List Date  \\\n0  \"43.7337\",  \"-79.5607\",                \"\",  11/29/2013 12:00:00 AM   \n1  \"43.7616\",  \"-79.4611\",                \"\",   9/19/2014 12:00:00 AM   \n2  \"43.7214\",  \"-79.4623\",                \"\",   12/5/2014 12:00:00 AM   \n3  \"43.7257\",  \"-79.5881\",                \"\",   2021-03-24 00:00:00.0   \n4  \"43.7266\",  \"-79.4104\",                \"\",   2020-08-18 00:00:00.0   \n\n   Sold Price  Original Price  ... Rooms Plus Washrooms Type 3 # Pcs  \\\n0   1100000.0       1195000.0  ...        NaN                    NaN   \n1   1008888.0        998000.0  ...        2.0                    4.0   \n2    830000.0        879000.0  ...        NaN                    5.0   \n3         NaN             NaN  ...        3.0                    NaN   \n4   1425000.0             NaN  ...        1.0                    NaN   \n\n  Kitchens Plus Parking Total Furnished  Laundry Access  Private Entrance  \\\n0           NaN           NaN       NaN             NaN               NaN   \n1           1.0           NaN       NaN             NaN               NaN   \n2           NaN           NaN       NaN             NaN               NaN   \n3           NaN           6.0       NaN             NaN               NaN   \n4           NaN           1.0       NaN             NaN               NaN   \n\n   Lease Term  Ensuite Laundry  Property Type  \n0         NaN              NaN            NaN  \n1         NaN              NaN            NaN  \n2         NaN              NaN            NaN  \n3         NaN              NaN            NaN  \n4         NaN              NaN            NaN  \n\n[5 rows x 53 columns]",
      "text/html": "<div>\n<style scoped>\n    .dataframe tbody tr th:only-of-type {\n        vertical-align: middle;\n    }\n\n    .dataframe tbody tr th {\n        vertical-align: top;\n    }\n\n    .dataframe thead th {\n        text-align: right;\n    }\n</style>\n<table border=\"1\" class=\"dataframe\">\n  <thead>\n    <tr style=\"text-align: right;\">\n      <th></th>\n      <th>Unnamed: 0.1</th>\n      <th>Unnamed: 0</th>\n      <th>address</th>\n      <th>isResidentialProperty</th>\n      <th>propertyLat</th>\n      <th>propertyLng</th>\n      <th>searchNeighborhood</th>\n      <th>List Date</th>\n      <th>Sold Price</th>\n      <th>Original Price</th>\n      <th>...</th>\n      <th>Rooms Plus</th>\n      <th>Washrooms Type 3 # Pcs</th>\n      <th>Kitchens Plus</th>\n      <th>Parking Total</th>\n      <th>Furnished</th>\n      <th>Laundry Access</th>\n      <th>Private Entrance</th>\n      <th>Lease Term</th>\n      <th>Ensuite Laundry</th>\n      <th>Property Type</th>\n    </tr>\n  </thead>\n  <tbody>\n    <tr>\n      <th>0</th>\n      <td>2</td>\n      <td>2</td>\n      <td>82-riverdale-drive</td>\n      <td>true,</td>\n      <td>\"43.7337\",</td>\n      <td>\"-79.5607\",</td>\n      <td>\"\",</td>\n      <td>11/29/2013 12:00:00 AM</td>\n      <td>1100000.0</td>\n      <td>1195000.0</td>\n      <td>...</td>\n      <td>NaN</td>\n      <td>NaN</td>\n      <td>NaN</td>\n      <td>NaN</td>\n      <td>NaN</td>\n      <td>NaN</td>\n      <td>NaN</td>\n      <td>NaN</td>\n      <td>NaN</td>\n      <td>NaN</td>\n    </tr>\n    <tr>\n      <th>1</th>\n      <td>15</td>\n      <td>15</td>\n      <td>185-honiton-street</td>\n      <td>true,</td>\n      <td>\"43.7616\",</td>\n      <td>\"-79.4611\",</td>\n      <td>\"\",</td>\n      <td>9/19/2014 12:00:00 AM</td>\n      <td>1008888.0</td>\n      <td>998000.0</td>\n      <td>...</td>\n      <td>2.0</td>\n      <td>4.0</td>\n      <td>1.0</td>\n      <td>NaN</td>\n      <td>NaN</td>\n      <td>NaN</td>\n      <td>NaN</td>\n      <td>NaN</td>\n      <td>NaN</td>\n      <td>NaN</td>\n    </tr>\n    <tr>\n      <th>2</th>\n      <td>18</td>\n      <td>18</td>\n      <td>75-mcadam-avenue</td>\n      <td>true,</td>\n      <td>\"43.7214\",</td>\n      <td>\"-79.4623\",</td>\n      <td>\"\",</td>\n      <td>12/5/2014 12:00:00 AM</td>\n      <td>830000.0</td>\n      <td>879000.0</td>\n      <td>...</td>\n      <td>NaN</td>\n      <td>5.0</td>\n      <td>NaN</td>\n      <td>NaN</td>\n      <td>NaN</td>\n      <td>NaN</td>\n      <td>NaN</td>\n      <td>NaN</td>\n      <td>NaN</td>\n      <td>NaN</td>\n    </tr>\n    <tr>\n      <th>3</th>\n      <td>20</td>\n      <td>20</td>\n      <td>155-mercury-road</td>\n      <td>true,</td>\n      <td>\"43.7257\",</td>\n      <td>\"-79.5881\",</td>\n      <td>\"\",</td>\n      <td>2021-03-24 00:00:00.0</td>\n      <td>NaN</td>\n      <td>NaN</td>\n      <td>...</td>\n      <td>3.0</td>\n      <td>NaN</td>\n      <td>NaN</td>\n      <td>6.0</td>\n      <td>NaN</td>\n      <td>NaN</td>\n      <td>NaN</td>\n      <td>NaN</td>\n      <td>NaN</td>\n      <td>NaN</td>\n    </tr>\n    <tr>\n      <th>4</th>\n      <td>24</td>\n      <td>24</td>\n      <td>227-woburn-avenue</td>\n      <td>true,</td>\n      <td>\"43.7266\",</td>\n      <td>\"-79.4104\",</td>\n      <td>\"\",</td>\n      <td>2020-08-18 00:00:00.0</td>\n      <td>1425000.0</td>\n      <td>NaN</td>\n      <td>...</td>\n      <td>1.0</td>\n      <td>NaN</td>\n      <td>NaN</td>\n      <td>1.0</td>\n      <td>NaN</td>\n      <td>NaN</td>\n      <td>NaN</td>\n      <td>NaN</td>\n      <td>NaN</td>\n      <td>NaN</td>\n    </tr>\n  </tbody>\n</table>\n<p>5 rows × 53 columns</p>\n</div>"
     },
     "execution_count": 12,
     "metadata": {},
     "output_type": "execute_result"
    }
   ],
   "source": [
    "# create dataframe of houses\n",
    "house_data = pd.read_csv('houses_data.csv')\n",
    "# house_data = pd.read_csv('save-0-10,000.csv') \n",
    "house_data.head()"
   ],
   "metadata": {
    "collapsed": false,
    "ExecuteTime": {
     "end_time": "2023-12-06T21:16:50.064264Z",
     "start_time": "2023-12-06T21:16:49.570771Z"
    }
   },
   "id": "862c12f8"
  },
  {
   "cell_type": "code",
   "execution_count": 13,
   "id": "81becc56",
   "metadata": {
    "ExecuteTime": {
     "end_time": "2023-12-06T21:16:50.227454Z",
     "start_time": "2023-12-06T21:16:50.084858Z"
    }
   },
   "outputs": [],
   "source": [
    "# convert longitudes and latitudes into floats and drop rows with no latitude\n",
    "house_data['propertyLng'] = house_data['propertyLng'].str.strip(\"\\\",\")\n",
    "house_data['propertyLat'] = house_data['propertyLat'].str.strip(\"\\\",\")\n",
    "\n",
    "house_data = house_data[(house_data['propertyLng'] != '\"\",') & \n",
    "                        (house_data['propertyLng'] != '') &\n",
    "                        (house_data['propertyLat'] != '\"\",') &\n",
    "                        (house_data['propertyLat'] != '')]\n",
    "\n",
    "house_data['propertyLng'] = house_data['propertyLng'].astype(float)\n",
    "house_data['propertyLat'] = house_data['propertyLat'].astype(float)"
   ]
  },
  {
   "cell_type": "code",
   "execution_count": 14,
   "id": "71c73420",
   "metadata": {
    "ExecuteTime": {
     "end_time": "2023-12-06T21:16:50.649367Z",
     "start_time": "2023-12-06T21:16:50.228304Z"
    }
   },
   "outputs": [
    {
     "data": {
      "text/plain": "   Unnamed: 0.1  Unnamed: 0             address isResidentialProperty  \\\n0             2           2  82-riverdale-drive                 true,   \n1            15          15  185-honiton-street                 true,   \n2            18          18    75-mcadam-avenue                 true,   \n3            20          20    155-mercury-road                 true,   \n4            24          24   227-woburn-avenue                 true,   \n\n   propertyLat  propertyLng searchNeighborhood               List Date  \\\n0      43.7337     -79.5607                \"\",  11/29/2013 12:00:00 AM   \n1      43.7616     -79.4611                \"\",   9/19/2014 12:00:00 AM   \n2      43.7214     -79.4623                \"\",   12/5/2014 12:00:00 AM   \n3      43.7257     -79.5881                \"\",   2021-03-24 00:00:00.0   \n4      43.7266     -79.4104                \"\",   2020-08-18 00:00:00.0   \n\n   Sold Price  Original Price  ... Rooms Plus Washrooms Type 3 # Pcs  \\\n0   1100000.0       1195000.0  ...        NaN                    NaN   \n1   1008888.0        998000.0  ...        2.0                    4.0   \n2    830000.0        879000.0  ...        NaN                    5.0   \n3         NaN             NaN  ...        3.0                    NaN   \n4   1425000.0             NaN  ...        1.0                    NaN   \n\n  Kitchens Plus Parking Total Furnished  Laundry Access  Private Entrance  \\\n0           NaN           NaN       NaN             NaN               NaN   \n1           1.0           NaN       NaN             NaN               NaN   \n2           NaN           NaN       NaN             NaN               NaN   \n3           NaN           6.0       NaN             NaN               NaN   \n4           NaN           1.0       NaN             NaN               NaN   \n\n   Lease Term  Ensuite Laundry  Property Type  \n0         NaN              NaN            NaN  \n1         NaN              NaN            NaN  \n2         NaN              NaN            NaN  \n3         NaN              NaN            NaN  \n4         NaN              NaN            NaN  \n\n[5 rows x 53 columns]",
      "text/html": "<div>\n<style scoped>\n    .dataframe tbody tr th:only-of-type {\n        vertical-align: middle;\n    }\n\n    .dataframe tbody tr th {\n        vertical-align: top;\n    }\n\n    .dataframe thead th {\n        text-align: right;\n    }\n</style>\n<table border=\"1\" class=\"dataframe\">\n  <thead>\n    <tr style=\"text-align: right;\">\n      <th></th>\n      <th>Unnamed: 0.1</th>\n      <th>Unnamed: 0</th>\n      <th>address</th>\n      <th>isResidentialProperty</th>\n      <th>propertyLat</th>\n      <th>propertyLng</th>\n      <th>searchNeighborhood</th>\n      <th>List Date</th>\n      <th>Sold Price</th>\n      <th>Original Price</th>\n      <th>...</th>\n      <th>Rooms Plus</th>\n      <th>Washrooms Type 3 # Pcs</th>\n      <th>Kitchens Plus</th>\n      <th>Parking Total</th>\n      <th>Furnished</th>\n      <th>Laundry Access</th>\n      <th>Private Entrance</th>\n      <th>Lease Term</th>\n      <th>Ensuite Laundry</th>\n      <th>Property Type</th>\n    </tr>\n  </thead>\n  <tbody>\n    <tr>\n      <th>0</th>\n      <td>2</td>\n      <td>2</td>\n      <td>82-riverdale-drive</td>\n      <td>true,</td>\n      <td>43.7337</td>\n      <td>-79.5607</td>\n      <td>\"\",</td>\n      <td>11/29/2013 12:00:00 AM</td>\n      <td>1100000.0</td>\n      <td>1195000.0</td>\n      <td>...</td>\n      <td>NaN</td>\n      <td>NaN</td>\n      <td>NaN</td>\n      <td>NaN</td>\n      <td>NaN</td>\n      <td>NaN</td>\n      <td>NaN</td>\n      <td>NaN</td>\n      <td>NaN</td>\n      <td>NaN</td>\n    </tr>\n    <tr>\n      <th>1</th>\n      <td>15</td>\n      <td>15</td>\n      <td>185-honiton-street</td>\n      <td>true,</td>\n      <td>43.7616</td>\n      <td>-79.4611</td>\n      <td>\"\",</td>\n      <td>9/19/2014 12:00:00 AM</td>\n      <td>1008888.0</td>\n      <td>998000.0</td>\n      <td>...</td>\n      <td>2.0</td>\n      <td>4.0</td>\n      <td>1.0</td>\n      <td>NaN</td>\n      <td>NaN</td>\n      <td>NaN</td>\n      <td>NaN</td>\n      <td>NaN</td>\n      <td>NaN</td>\n      <td>NaN</td>\n    </tr>\n    <tr>\n      <th>2</th>\n      <td>18</td>\n      <td>18</td>\n      <td>75-mcadam-avenue</td>\n      <td>true,</td>\n      <td>43.7214</td>\n      <td>-79.4623</td>\n      <td>\"\",</td>\n      <td>12/5/2014 12:00:00 AM</td>\n      <td>830000.0</td>\n      <td>879000.0</td>\n      <td>...</td>\n      <td>NaN</td>\n      <td>5.0</td>\n      <td>NaN</td>\n      <td>NaN</td>\n      <td>NaN</td>\n      <td>NaN</td>\n      <td>NaN</td>\n      <td>NaN</td>\n      <td>NaN</td>\n      <td>NaN</td>\n    </tr>\n    <tr>\n      <th>3</th>\n      <td>20</td>\n      <td>20</td>\n      <td>155-mercury-road</td>\n      <td>true,</td>\n      <td>43.7257</td>\n      <td>-79.5881</td>\n      <td>\"\",</td>\n      <td>2021-03-24 00:00:00.0</td>\n      <td>NaN</td>\n      <td>NaN</td>\n      <td>...</td>\n      <td>3.0</td>\n      <td>NaN</td>\n      <td>NaN</td>\n      <td>6.0</td>\n      <td>NaN</td>\n      <td>NaN</td>\n      <td>NaN</td>\n      <td>NaN</td>\n      <td>NaN</td>\n      <td>NaN</td>\n    </tr>\n    <tr>\n      <th>4</th>\n      <td>24</td>\n      <td>24</td>\n      <td>227-woburn-avenue</td>\n      <td>true,</td>\n      <td>43.7266</td>\n      <td>-79.4104</td>\n      <td>\"\",</td>\n      <td>2020-08-18 00:00:00.0</td>\n      <td>1425000.0</td>\n      <td>NaN</td>\n      <td>...</td>\n      <td>1.0</td>\n      <td>NaN</td>\n      <td>NaN</td>\n      <td>1.0</td>\n      <td>NaN</td>\n      <td>NaN</td>\n      <td>NaN</td>\n      <td>NaN</td>\n      <td>NaN</td>\n      <td>NaN</td>\n    </tr>\n  </tbody>\n</table>\n<p>5 rows × 53 columns</p>\n</div>"
     },
     "execution_count": 14,
     "metadata": {},
     "output_type": "execute_result"
    }
   ],
   "source": [
    "# drop duplicates\n",
    "house_data.drop_duplicates(inplace=True)\n",
    "house_data.head()"
   ]
  },
  {
   "cell_type": "markdown",
   "id": "3c570111",
   "metadata": {},
   "source": [
    "Now that we have removed addresses with no location and any duplicates, we can look at which columns have the most and least null values."
   ]
  },
  {
   "cell_type": "code",
   "execution_count": 15,
   "id": "195a0e2d",
   "metadata": {
    "ExecuteTime": {
     "end_time": "2023-12-06T21:16:50.836113Z",
     "start_time": "2023-12-06T21:16:50.648789Z"
    }
   },
   "outputs": [
    {
     "data": {
      "text/plain": "                        count\nUnnamed: 0.1                0\nUnnamed: 0                  0\naddress                     0\nisResidentialProperty       0\npropertyLat                 0\npropertyLng                 0\nsearchNeighborhood          0\nList Date                   0\nSold Price              12197\nOriginal Price          31942\nType                        1\nStyle                      91\nSize (sq ft)            35548\nAge                     37822\nCommunity                   0\nList Price               3286\nBedrooms                  102\nBathrooms                   0\nKitchens                  106\nRooms                     108\nAir Conditioning         5151\nFireplace                 159\nBasement                 1967\nHeating                   164\nExterior                  102\nExterior Features       35745\nDriveway                 3587\nGarage                  14848\nParking Places             89\nCovered Parking Places    668\nTaxes                    8706\nFeature                 23558\nFronting On               545\nFrontage                 4663\nLot Depth                4685\nPool                    48435\nSewer                     774\nCross Street                5\nMunicipality District       0\nLot Code                32937\nBedrooms Plus           23127\nGas                     44582\nWaterfront              50453\nRooms Plus              16122\nWashrooms Type 3 # Pcs  42605\nKitchens Plus           38971\nParking Total           18859\nFurnished               41863\nLaundry Access          48508\nPrivate Entrance        41866\nLease Term              42009\nEnsuite Laundry         50190\nProperty Type           50575",
      "text/html": "<div>\n<style scoped>\n    .dataframe tbody tr th:only-of-type {\n        vertical-align: middle;\n    }\n\n    .dataframe tbody tr th {\n        vertical-align: top;\n    }\n\n    .dataframe thead th {\n        text-align: right;\n    }\n</style>\n<table border=\"1\" class=\"dataframe\">\n  <thead>\n    <tr style=\"text-align: right;\">\n      <th></th>\n      <th>count</th>\n    </tr>\n  </thead>\n  <tbody>\n    <tr>\n      <th>Unnamed: 0.1</th>\n      <td>0</td>\n    </tr>\n    <tr>\n      <th>Unnamed: 0</th>\n      <td>0</td>\n    </tr>\n    <tr>\n      <th>address</th>\n      <td>0</td>\n    </tr>\n    <tr>\n      <th>isResidentialProperty</th>\n      <td>0</td>\n    </tr>\n    <tr>\n      <th>propertyLat</th>\n      <td>0</td>\n    </tr>\n    <tr>\n      <th>propertyLng</th>\n      <td>0</td>\n    </tr>\n    <tr>\n      <th>searchNeighborhood</th>\n      <td>0</td>\n    </tr>\n    <tr>\n      <th>List Date</th>\n      <td>0</td>\n    </tr>\n    <tr>\n      <th>Sold Price</th>\n      <td>12197</td>\n    </tr>\n    <tr>\n      <th>Original Price</th>\n      <td>31942</td>\n    </tr>\n    <tr>\n      <th>Type</th>\n      <td>1</td>\n    </tr>\n    <tr>\n      <th>Style</th>\n      <td>91</td>\n    </tr>\n    <tr>\n      <th>Size (sq ft)</th>\n      <td>35548</td>\n    </tr>\n    <tr>\n      <th>Age</th>\n      <td>37822</td>\n    </tr>\n    <tr>\n      <th>Community</th>\n      <td>0</td>\n    </tr>\n    <tr>\n      <th>List Price</th>\n      <td>3286</td>\n    </tr>\n    <tr>\n      <th>Bedrooms</th>\n      <td>102</td>\n    </tr>\n    <tr>\n      <th>Bathrooms</th>\n      <td>0</td>\n    </tr>\n    <tr>\n      <th>Kitchens</th>\n      <td>106</td>\n    </tr>\n    <tr>\n      <th>Rooms</th>\n      <td>108</td>\n    </tr>\n    <tr>\n      <th>Air Conditioning</th>\n      <td>5151</td>\n    </tr>\n    <tr>\n      <th>Fireplace</th>\n      <td>159</td>\n    </tr>\n    <tr>\n      <th>Basement</th>\n      <td>1967</td>\n    </tr>\n    <tr>\n      <th>Heating</th>\n      <td>164</td>\n    </tr>\n    <tr>\n      <th>Exterior</th>\n      <td>102</td>\n    </tr>\n    <tr>\n      <th>Exterior Features</th>\n      <td>35745</td>\n    </tr>\n    <tr>\n      <th>Driveway</th>\n      <td>3587</td>\n    </tr>\n    <tr>\n      <th>Garage</th>\n      <td>14848</td>\n    </tr>\n    <tr>\n      <th>Parking Places</th>\n      <td>89</td>\n    </tr>\n    <tr>\n      <th>Covered Parking Places</th>\n      <td>668</td>\n    </tr>\n    <tr>\n      <th>Taxes</th>\n      <td>8706</td>\n    </tr>\n    <tr>\n      <th>Feature</th>\n      <td>23558</td>\n    </tr>\n    <tr>\n      <th>Fronting On</th>\n      <td>545</td>\n    </tr>\n    <tr>\n      <th>Frontage</th>\n      <td>4663</td>\n    </tr>\n    <tr>\n      <th>Lot Depth</th>\n      <td>4685</td>\n    </tr>\n    <tr>\n      <th>Pool</th>\n      <td>48435</td>\n    </tr>\n    <tr>\n      <th>Sewer</th>\n      <td>774</td>\n    </tr>\n    <tr>\n      <th>Cross Street</th>\n      <td>5</td>\n    </tr>\n    <tr>\n      <th>Municipality District</th>\n      <td>0</td>\n    </tr>\n    <tr>\n      <th>Lot Code</th>\n      <td>32937</td>\n    </tr>\n    <tr>\n      <th>Bedrooms Plus</th>\n      <td>23127</td>\n    </tr>\n    <tr>\n      <th>Gas</th>\n      <td>44582</td>\n    </tr>\n    <tr>\n      <th>Waterfront</th>\n      <td>50453</td>\n    </tr>\n    <tr>\n      <th>Rooms Plus</th>\n      <td>16122</td>\n    </tr>\n    <tr>\n      <th>Washrooms Type 3 # Pcs</th>\n      <td>42605</td>\n    </tr>\n    <tr>\n      <th>Kitchens Plus</th>\n      <td>38971</td>\n    </tr>\n    <tr>\n      <th>Parking Total</th>\n      <td>18859</td>\n    </tr>\n    <tr>\n      <th>Furnished</th>\n      <td>41863</td>\n    </tr>\n    <tr>\n      <th>Laundry Access</th>\n      <td>48508</td>\n    </tr>\n    <tr>\n      <th>Private Entrance</th>\n      <td>41866</td>\n    </tr>\n    <tr>\n      <th>Lease Term</th>\n      <td>42009</td>\n    </tr>\n    <tr>\n      <th>Ensuite Laundry</th>\n      <td>50190</td>\n    </tr>\n    <tr>\n      <th>Property Type</th>\n      <td>50575</td>\n    </tr>\n  </tbody>\n</table>\n</div>"
     },
     "execution_count": 15,
     "metadata": {},
     "output_type": "execute_result"
    }
   ],
   "source": [
    "pd.DataFrame({'count': house_data.isnull().sum()})"
   ]
  },
  {
   "cell_type": "markdown",
   "id": "d8007d36",
   "metadata": {},
   "source": [
    "After much consideration into the amount of data gather for each column type, and the potential importance of the information of each column, we ended up with the following 50 features which will be used for further analysis and for the future model."
   ]
  },
  {
   "cell_type": "code",
   "execution_count": 16,
   "id": "95f5cc74",
   "metadata": {
    "ExecuteTime": {
     "end_time": "2023-12-06T21:16:50.922713Z",
     "start_time": "2023-12-06T21:16:50.754616Z"
    }
   },
   "outputs": [
    {
     "name": "stdout",
     "output_type": "stream",
     "text": [
      "<class 'pandas.core.frame.DataFrame'>\n",
      "RangeIndex: 50575 entries, 0 to 50574\n",
      "Data columns (total 51 columns):\n",
      " #   Column                  Non-Null Count  Dtype  \n",
      "---  ------                  --------------  -----  \n",
      " 0   address                 50575 non-null  object \n",
      " 1   isResidentialProperty   50575 non-null  object \n",
      " 2   propertyLat             50575 non-null  float64\n",
      " 3   propertyLng             50575 non-null  float64\n",
      " 4   searchNeighborhood      50575 non-null  object \n",
      " 5   List Date               50575 non-null  object \n",
      " 6   Sold Price              38378 non-null  float64\n",
      " 7   Original Price          18633 non-null  float64\n",
      " 8   Type                    50574 non-null  object \n",
      " 9   Style                   50484 non-null  object \n",
      " 10  Size (sq ft)            15027 non-null  object \n",
      " 11  Age                     12753 non-null  object \n",
      " 12  Community               50575 non-null  object \n",
      " 13  List Price              47289 non-null  float64\n",
      " 14  Bedrooms                50473 non-null  float64\n",
      " 15  Bathrooms               50575 non-null  float64\n",
      " 16  Kitchens                50469 non-null  float64\n",
      " 17  Rooms                   50467 non-null  float64\n",
      " 18  Air Conditioning        45424 non-null  object \n",
      " 19  Fireplace               50416 non-null  object \n",
      " 20  Basement                48608 non-null  object \n",
      " 21  Heating                 50411 non-null  object \n",
      " 22  Exterior                50473 non-null  object \n",
      " 23  Exterior Features       14830 non-null  object \n",
      " 24  Driveway                46988 non-null  object \n",
      " 25  Garage                  35727 non-null  object \n",
      " 26  Parking Places          50486 non-null  float64\n",
      " 27  Covered Parking Places  49907 non-null  float64\n",
      " 28  Taxes                   41869 non-null  float64\n",
      " 29  Feature                 27017 non-null  object \n",
      " 30  Fronting On             50030 non-null  object \n",
      " 31  Frontage                45912 non-null  float64\n",
      " 32  Lot Depth               45890 non-null  float64\n",
      " 33  Pool                    2140 non-null   object \n",
      " 34  Sewer                   49801 non-null  object \n",
      " 35  Cross Street            50570 non-null  object \n",
      " 36  Municipality District   50575 non-null  object \n",
      " 37  Lot Code                17638 non-null  object \n",
      " 38  Bedrooms Plus           27448 non-null  float64\n",
      " 39  Gas                     5993 non-null   object \n",
      " 40  Waterfront              122 non-null    object \n",
      " 41  Rooms Plus              34453 non-null  float64\n",
      " 42  Washrooms Type 3 # Pcs  7970 non-null   float64\n",
      " 43  Kitchens Plus           11604 non-null  float64\n",
      " 44  Parking Total           31716 non-null  float64\n",
      " 45  Furnished               8712 non-null   object \n",
      " 46  Laundry Access          2067 non-null   object \n",
      " 47  Private Entrance        8709 non-null   object \n",
      " 48  Lease Term              8566 non-null   object \n",
      " 49  Ensuite Laundry         385 non-null    object \n",
      " 50  Property Type           0 non-null      float64\n",
      "dtypes: float64(20), object(31)\n",
      "memory usage: 19.7+ MB\n"
     ]
    }
   ],
   "source": [
    "# create dataframe of houses\n",
    "house_data_final = house_data[['address', 'isResidentialProperty', 'propertyLat',\n",
    "                                                                   'propertyLng', \n",
    "                              'searchNeighborhood', 'List Date', 'Sold Price', 'Original Price', 'Type', 'Style', \n",
    "                             'Size (sq ft)', 'Age', 'Community', 'List Price', 'Bedrooms', 'Bathrooms', 'Kitchens',\n",
    "                             'Rooms', 'Air Conditioning', 'Fireplace', 'Basement', 'Heating', 'Exterior', \n",
    "                             'Exterior Features', 'Driveway', 'Garage', 'Parking Places', 'Covered Parking Places',\n",
    "                             'Taxes', 'Feature', 'Fronting On', 'Frontage', 'Lot Depth', 'Pool', 'Sewer', \n",
    "                             'Cross Street', 'Municipality District', 'Lot Code', 'Bedrooms Plus', 'Gas',\n",
    "                               'Waterfront', 'Rooms Plus', 'Washrooms Type 3 # Pcs', 'Kitchens Plus',\n",
    "                               'Parking Total', 'Furnished', 'Laundry Access', 'Private Entrance', 'Lease Term',\n",
    "                               'Ensuite Laundry', 'Property Type']]\n",
    "\n",
    "house_data_final.info()"
   ]
  },
  {
   "cell_type": "markdown",
   "id": "abf8acbc",
   "metadata": {},
   "source": [
    "First, to narrow the scope of this project, we will only look at residential properties. As well, since our analysis will be temporal, lets get rid of houses with no list date."
   ]
  },
  {
   "cell_type": "code",
   "execution_count": 17,
   "id": "df3ad144",
   "metadata": {
    "ExecuteTime": {
     "end_time": "2023-12-06T21:16:51.088845Z",
     "start_time": "2023-12-06T21:16:50.904947Z"
    }
   },
   "outputs": [],
   "source": [
    "# Drop isResidentialProperty = False values\n",
    "house_data_final = house_data_final[house_data['isResidentialProperty'] == 'true,']\n",
    "house_data_final = house_data_final.dropna(subset = 'List Date')"
   ]
  },
  {
   "cell_type": "code",
   "execution_count": 18,
   "id": "137f50fa",
   "metadata": {
    "ExecuteTime": {
     "end_time": "2023-12-06T21:16:51.322610Z",
     "start_time": "2023-12-06T21:16:50.970822Z"
    }
   },
   "outputs": [],
   "source": [
    "house_data_final = house_data_final[(house_data_final['List Date'].str.contains('2023')) |\n",
    "                                   (house_data_final['List Date'].str.contains('2022')) |\n",
    "                                   (house_data_final['List Date'].str.contains('2021')) |\n",
    "                                   (house_data_final['List Date'].str.contains('2020')) |\n",
    "                                   (house_data_final['List Date'].str.contains('2019')) |\n",
    "                                   (house_data_final['List Date'].str.contains('2018')) |\n",
    "                                   (house_data_final['List Date'].str.contains('2017')) |\n",
    "                                   (house_data_final['List Date'].str.contains('2016')) |\n",
    "                                   (house_data_final['List Date'].str.contains('2015')) |\n",
    "                                   (house_data_final['List Date'].str.contains('2014')) |\n",
    "                                   (house_data_final['List Date'].str.contains('2013'))]"
   ]
  },
  {
   "cell_type": "markdown",
   "id": "e3b09ddd",
   "metadata": {},
   "source": [
    "Lets add this cleaned data into its own csv to create another checkpoint"
   ]
  },
  {
   "cell_type": "code",
   "execution_count": 19,
   "id": "29cf0db9",
   "metadata": {
    "ExecuteTime": {
     "end_time": "2023-12-06T21:16:52.905172Z",
     "start_time": "2023-12-06T21:16:51.323107Z"
    }
   },
   "outputs": [],
   "source": [
    "house_data_final.to_csv('houses_data_final.csv')"
   ]
  },
  {
   "cell_type": "code",
   "execution_count": 19,
   "id": "1ccf6cac",
   "metadata": {
    "ExecuteTime": {
     "end_time": "2023-12-06T21:16:52.914674Z",
     "start_time": "2023-12-06T21:16:52.910854Z"
    }
   },
   "outputs": [],
   "source": []
  }
 ],
 "metadata": {
  "kernelspec": {
   "display_name": "Python 3 (ipykernel)",
   "language": "python",
   "name": "python3"
  },
  "language_info": {
   "codemirror_mode": {
    "name": "ipython",
    "version": 3
   },
   "file_extension": ".py",
   "mimetype": "text/x-python",
   "name": "python",
   "nbconvert_exporter": "python",
   "pygments_lexer": "ipython3",
   "version": "3.11.4"
  }
 },
 "nbformat": 4,
 "nbformat_minor": 5
}
