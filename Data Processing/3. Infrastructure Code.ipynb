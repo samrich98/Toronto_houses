{
 "cells": [
  {
   "cell_type": "markdown",
   "metadata": {},
   "source": [
    "In this note book we will gather our infrastructure data and merge it to each house."
   ]
  },
  {
   "cell_type": "code",
   "execution_count": 1,
   "metadata": {
    "id": "zXfT0-i2LvRi",
    "ExecuteTime": {
     "end_time": "2023-12-05T22:46:29.881722Z",
     "start_time": "2023-12-05T22:46:27.695246Z"
    }
   },
   "outputs": [],
   "source": [
    "import pandas as pd\n",
    "import os\n",
    "from datetime import datetime\n",
    "import geopandas as gpd\n",
    "from shapely.geometry import Point\n",
    "from shapely import wkt\n",
    "import matplotlib.pyplot as plt\n",
    "from shapely.geometry import Polygon\n",
    "import folium\n",
    "import math\n",
    "\n",
    "# Configure Notebook\n",
    "import warnings\n",
    "warnings.filterwarnings('ignore')\n",
    "%config Completer.use_jedi = False"
   ]
  },
  {
   "cell_type": "markdown",
   "metadata": {},
   "source": [
    "First, let's import all the infrastructure csv files."
   ]
  },
  {
   "cell_type": "code",
   "execution_count": 2,
   "metadata": {
    "id": "kPsheYJ9MRjf",
    "ExecuteTime": {
     "end_time": "2023-12-05T22:46:33.843178Z",
     "start_time": "2023-12-05T22:46:33.499661Z"
    }
   },
   "outputs": [],
   "source": [
    "# importing the csv files\n",
    "childcare = pd.read_csv('infrastructure_childcare.csv')\n",
    "communities = pd.read_csv('infrastructure_communities.csv')\n",
    "education = pd.read_csv('infrastructure_education.csv')\n",
    "healthcare = pd.read_csv('infrastructure_healthcare.csv')\n",
    "recreation = pd.read_csv('infrastructure_recreation.csv')\n",
    "roads_bridges = pd.read_csv('infrastructure_roadsandbridges.csv')\n",
    "transit = pd.read_csv('infrastructure_transit.csv')"
   ]
  },
  {
   "cell_type": "markdown",
   "metadata": {},
   "source": [
    "We only care about a select few columns, so let's filter out the rest.  Then we can add all these data frames together."
   ]
  },
  {
   "cell_type": "code",
   "execution_count": 3,
   "metadata": {
    "id": "0HY0CyYnNXvR",
    "ExecuteTime": {
     "end_time": "2023-12-05T22:46:37.205783Z",
     "start_time": "2023-12-05T22:46:37.063724Z"
    }
   },
   "outputs": [
    {
     "data": {
      "text/plain": "  Target Completion Date Supporting Ministry  \\\n0                 Dec-18           Education   \n1                 Sep-18           Education   \n2                 Sep-17           Education   \n3                 Sep-20           Education   \n4                 Sep-20           Education   \n\n                                             Project  \\\n0  North Addington Education Centre Public Elemen...   \n1            Roméo Dallaire Public Elementary School   \n2    St Josephine Bakhita Catholic Elementary School   \n3         Dr Roberta Bondar Public Elementary School   \n4                  Lakeside Public Elementary School   \n\n                     Description                  Area    Status  \\\n0  Renovation of existing school  Lennox and Addington  Complete   \n1  Renovation of existing school                Durham  Complete   \n2   Expansion of existing school                Durham  Complete   \n3  Renovation of existing school                Durham  Complete   \n4  Renovation of existing school                Durham  Complete   \n\n  Estimated Total Budget  Latitude Longitude  \n0                 945319  44.81607 -77.18565  \n1                1953948  43.89823 -79.01472  \n2                2405382  43.89132 -79.03197  \n3                 958164  43.87113 -79.03333  \n4                 504171  43.82344 -79.02777  ",
      "text/html": "<div>\n<style scoped>\n    .dataframe tbody tr th:only-of-type {\n        vertical-align: middle;\n    }\n\n    .dataframe tbody tr th {\n        vertical-align: top;\n    }\n\n    .dataframe thead th {\n        text-align: right;\n    }\n</style>\n<table border=\"1\" class=\"dataframe\">\n  <thead>\n    <tr style=\"text-align: right;\">\n      <th></th>\n      <th>Target Completion Date</th>\n      <th>Supporting Ministry</th>\n      <th>Project</th>\n      <th>Description</th>\n      <th>Area</th>\n      <th>Status</th>\n      <th>Estimated Total Budget</th>\n      <th>Latitude</th>\n      <th>Longitude</th>\n    </tr>\n  </thead>\n  <tbody>\n    <tr>\n      <th>0</th>\n      <td>Dec-18</td>\n      <td>Education</td>\n      <td>North Addington Education Centre Public Elemen...</td>\n      <td>Renovation of existing school</td>\n      <td>Lennox and Addington</td>\n      <td>Complete</td>\n      <td>945319</td>\n      <td>44.81607</td>\n      <td>-77.18565</td>\n    </tr>\n    <tr>\n      <th>1</th>\n      <td>Sep-18</td>\n      <td>Education</td>\n      <td>Roméo Dallaire Public Elementary School</td>\n      <td>Renovation of existing school</td>\n      <td>Durham</td>\n      <td>Complete</td>\n      <td>1953948</td>\n      <td>43.89823</td>\n      <td>-79.01472</td>\n    </tr>\n    <tr>\n      <th>2</th>\n      <td>Sep-17</td>\n      <td>Education</td>\n      <td>St Josephine Bakhita Catholic Elementary School</td>\n      <td>Expansion of existing school</td>\n      <td>Durham</td>\n      <td>Complete</td>\n      <td>2405382</td>\n      <td>43.89132</td>\n      <td>-79.03197</td>\n    </tr>\n    <tr>\n      <th>3</th>\n      <td>Sep-20</td>\n      <td>Education</td>\n      <td>Dr Roberta Bondar Public Elementary School</td>\n      <td>Renovation of existing school</td>\n      <td>Durham</td>\n      <td>Complete</td>\n      <td>958164</td>\n      <td>43.87113</td>\n      <td>-79.03333</td>\n    </tr>\n    <tr>\n      <th>4</th>\n      <td>Sep-20</td>\n      <td>Education</td>\n      <td>Lakeside Public Elementary School</td>\n      <td>Renovation of existing school</td>\n      <td>Durham</td>\n      <td>Complete</td>\n      <td>504171</td>\n      <td>43.82344</td>\n      <td>-79.02777</td>\n    </tr>\n  </tbody>\n</table>\n</div>"
     },
     "execution_count": 3,
     "metadata": {},
     "output_type": "execute_result"
    }
   ],
   "source": [
    "# selecting relevant columns and concatinating all data into single df\n",
    "columns_to_extract = [\"Target Completion Date\",\"Supporting Ministry\",\"Project\",\n",
    "                      \"Description\",\"Area\", \"Status\", \"Estimated Total Budget\", \"Latitude\", \"Longitude\"]\n",
    "\n",
    "\n",
    "infrastructure_df = pd.concat([childcare, communities, education, healthcare, recreation, roads_bridges, transit]\n",
    "                              , ignore_index=True)\n",
    "\n",
    "infrastructure_df = infrastructure_df[columns_to_extract]\n",
    "\n",
    "infrastructure_df.head()"
   ]
  },
  {
   "cell_type": "markdown",
   "metadata": {},
   "source": [
    "We only care about the regions relevant to Toronto, so let's filter for only projects in and around Toronto."
   ]
  },
  {
   "cell_type": "code",
   "execution_count": 4,
   "metadata": {
    "id": "pG4YDqhbXNNM",
    "ExecuteTime": {
     "end_time": "2023-12-05T22:46:39.309637Z",
     "start_time": "2023-12-05T22:46:39.279609Z"
    }
   },
   "outputs": [
    {
     "data": {
      "text/plain": "  Target Completion Date Supporting Ministry  \\\n1                 Sep-18           Education   \n2                 Sep-17           Education   \n3                 Sep-20           Education   \n4                 Sep-20           Education   \n5                 Oct-20           Education   \n\n                                           Project  \\\n1          Roméo Dallaire Public Elementary School   \n2  St Josephine Bakhita Catholic Elementary School   \n3       Dr Roberta Bondar Public Elementary School   \n4                Lakeside Public Elementary School   \n5         Roland Michener Public Elementary School   \n\n                     Description    Area    Status Estimated Total Budget  \\\n1  Renovation of existing school  Durham  Complete                1953948   \n2   Expansion of existing school  Durham  Complete                2405382   \n3  Renovation of existing school  Durham  Complete                 958164   \n4  Renovation of existing school  Durham  Complete                 504171   \n5  Renovation of existing school  Durham  Complete                 252086   \n\n   Latitude Longitude  \n1  43.89823 -79.01472  \n2  43.89132 -79.03197  \n3  43.87113 -79.03333  \n4  43.82344 -79.02777  \n5  43.85407  -79.0382  ",
      "text/html": "<div>\n<style scoped>\n    .dataframe tbody tr th:only-of-type {\n        vertical-align: middle;\n    }\n\n    .dataframe tbody tr th {\n        vertical-align: top;\n    }\n\n    .dataframe thead th {\n        text-align: right;\n    }\n</style>\n<table border=\"1\" class=\"dataframe\">\n  <thead>\n    <tr style=\"text-align: right;\">\n      <th></th>\n      <th>Target Completion Date</th>\n      <th>Supporting Ministry</th>\n      <th>Project</th>\n      <th>Description</th>\n      <th>Area</th>\n      <th>Status</th>\n      <th>Estimated Total Budget</th>\n      <th>Latitude</th>\n      <th>Longitude</th>\n    </tr>\n  </thead>\n  <tbody>\n    <tr>\n      <th>1</th>\n      <td>Sep-18</td>\n      <td>Education</td>\n      <td>Roméo Dallaire Public Elementary School</td>\n      <td>Renovation of existing school</td>\n      <td>Durham</td>\n      <td>Complete</td>\n      <td>1953948</td>\n      <td>43.89823</td>\n      <td>-79.01472</td>\n    </tr>\n    <tr>\n      <th>2</th>\n      <td>Sep-17</td>\n      <td>Education</td>\n      <td>St Josephine Bakhita Catholic Elementary School</td>\n      <td>Expansion of existing school</td>\n      <td>Durham</td>\n      <td>Complete</td>\n      <td>2405382</td>\n      <td>43.89132</td>\n      <td>-79.03197</td>\n    </tr>\n    <tr>\n      <th>3</th>\n      <td>Sep-20</td>\n      <td>Education</td>\n      <td>Dr Roberta Bondar Public Elementary School</td>\n      <td>Renovation of existing school</td>\n      <td>Durham</td>\n      <td>Complete</td>\n      <td>958164</td>\n      <td>43.87113</td>\n      <td>-79.03333</td>\n    </tr>\n    <tr>\n      <th>4</th>\n      <td>Sep-20</td>\n      <td>Education</td>\n      <td>Lakeside Public Elementary School</td>\n      <td>Renovation of existing school</td>\n      <td>Durham</td>\n      <td>Complete</td>\n      <td>504171</td>\n      <td>43.82344</td>\n      <td>-79.02777</td>\n    </tr>\n    <tr>\n      <th>5</th>\n      <td>Oct-20</td>\n      <td>Education</td>\n      <td>Roland Michener Public Elementary School</td>\n      <td>Renovation of existing school</td>\n      <td>Durham</td>\n      <td>Complete</td>\n      <td>252086</td>\n      <td>43.85407</td>\n      <td>-79.0382</td>\n    </tr>\n  </tbody>\n</table>\n</div>"
     },
     "execution_count": 4,
     "metadata": {},
     "output_type": "execute_result"
    }
   ],
   "source": [
    "# filtering by regions in the GTA\n",
    "areas_of_interest = [\"Toronto\", \"Peel\", \"York\", \"Halton\", \"Durham\"]\n",
    "GTA_infrastructure = infrastructure_df[infrastructure_df['Area'].isin(areas_of_interest)]\n",
    "GTA_infrastructure.head()"
   ]
  },
  {
   "cell_type": "markdown",
   "metadata": {},
   "source": [
    "How many of these projects are actually complete?"
   ]
  },
  {
   "cell_type": "code",
   "execution_count": 5,
   "metadata": {
    "colab": {
     "base_uri": "https://localhost:8080/"
    },
    "id": "1yawjZeENhNt",
    "outputId": "d44621f4-2e51-426f-8d3f-f810b4b38bba",
    "ExecuteTime": {
     "end_time": "2023-12-05T22:46:40.807930Z",
     "start_time": "2023-12-05T22:46:40.654153Z"
    }
   },
   "outputs": [
    {
     "name": "stdout",
     "output_type": "stream",
     "text": [
      "Percentage of items marked as 'complete': 63.17%\n",
      "784\n"
     ]
    }
   ],
   "source": [
    "# counting the amount of complete projects there are in the infrastructure dataset\n",
    "complete_count = (GTA_infrastructure['Status'] == 'Complete').sum()\n",
    "total_count = len(GTA_infrastructure)\n",
    "\n",
    "percentage_complete = (complete_count / total_count) * 100\n",
    "\n",
    "print(f\"Percentage of items marked as 'complete': {percentage_complete:.2f}%\")\n",
    "print(complete_count)"
   ]
  },
  {
   "cell_type": "markdown",
   "metadata": {},
   "source": [
    "Let's assume that a project only influences a price once it is complete, so we can filter out the incomplete projects."
   ]
  },
  {
   "cell_type": "code",
   "execution_count": 6,
   "metadata": {
    "id": "8AomrPjZNkS3",
    "ExecuteTime": {
     "end_time": "2023-12-05T22:46:42.180825Z",
     "start_time": "2023-12-05T22:46:42.099444Z"
    }
   },
   "outputs": [],
   "source": [
    "# removing any projects that are in the planning or construction phase\n",
    "complete_inf = GTA_infrastructure[(GTA_infrastructure['Status'] == 'Complete')]\n"
   ]
  },
  {
   "cell_type": "markdown",
   "metadata": {},
   "source": [
    "Now let's convert this infrastructure data into a datetime"
   ]
  },
  {
   "cell_type": "code",
   "execution_count": 7,
   "metadata": {
    "colab": {
     "base_uri": "https://localhost:8080/",
     "height": 747
    },
    "id": "VE9VRmVoUWOq",
    "outputId": "e957d73c-0692-4217-c864-e648fae2a66d",
    "ExecuteTime": {
     "end_time": "2023-12-05T22:46:43.267164Z",
     "start_time": "2023-12-05T22:46:43.233948Z"
    }
   },
   "outputs": [
    {
     "name": "stdout",
     "output_type": "stream",
     "text": [
      "The 'DateColumn' is of datetime data type.\n"
     ]
    },
    {
     "data": {
      "text/plain": "  Target Completion Date Supporting Ministry  \\\n1             2018-09-01           Education   \n2             2017-09-01           Education   \n3             2020-09-01           Education   \n4             2020-09-01           Education   \n5             2020-10-01           Education   \n\n                                           Project  \\\n1          Roméo Dallaire Public Elementary School   \n2  St Josephine Bakhita Catholic Elementary School   \n3       Dr Roberta Bondar Public Elementary School   \n4                Lakeside Public Elementary School   \n5         Roland Michener Public Elementary School   \n\n                     Description    Area    Status Estimated Total Budget  \\\n1  Renovation of existing school  Durham  Complete                1953948   \n2   Expansion of existing school  Durham  Complete                2405382   \n3  Renovation of existing school  Durham  Complete                 958164   \n4  Renovation of existing school  Durham  Complete                 504171   \n5  Renovation of existing school  Durham  Complete                 252086   \n\n   Latitude Longitude  \n1  43.89823 -79.01472  \n2  43.89132 -79.03197  \n3  43.87113 -79.03333  \n4  43.82344 -79.02777  \n5  43.85407  -79.0382  ",
      "text/html": "<div>\n<style scoped>\n    .dataframe tbody tr th:only-of-type {\n        vertical-align: middle;\n    }\n\n    .dataframe tbody tr th {\n        vertical-align: top;\n    }\n\n    .dataframe thead th {\n        text-align: right;\n    }\n</style>\n<table border=\"1\" class=\"dataframe\">\n  <thead>\n    <tr style=\"text-align: right;\">\n      <th></th>\n      <th>Target Completion Date</th>\n      <th>Supporting Ministry</th>\n      <th>Project</th>\n      <th>Description</th>\n      <th>Area</th>\n      <th>Status</th>\n      <th>Estimated Total Budget</th>\n      <th>Latitude</th>\n      <th>Longitude</th>\n    </tr>\n  </thead>\n  <tbody>\n    <tr>\n      <th>1</th>\n      <td>2018-09-01</td>\n      <td>Education</td>\n      <td>Roméo Dallaire Public Elementary School</td>\n      <td>Renovation of existing school</td>\n      <td>Durham</td>\n      <td>Complete</td>\n      <td>1953948</td>\n      <td>43.89823</td>\n      <td>-79.01472</td>\n    </tr>\n    <tr>\n      <th>2</th>\n      <td>2017-09-01</td>\n      <td>Education</td>\n      <td>St Josephine Bakhita Catholic Elementary School</td>\n      <td>Expansion of existing school</td>\n      <td>Durham</td>\n      <td>Complete</td>\n      <td>2405382</td>\n      <td>43.89132</td>\n      <td>-79.03197</td>\n    </tr>\n    <tr>\n      <th>3</th>\n      <td>2020-09-01</td>\n      <td>Education</td>\n      <td>Dr Roberta Bondar Public Elementary School</td>\n      <td>Renovation of existing school</td>\n      <td>Durham</td>\n      <td>Complete</td>\n      <td>958164</td>\n      <td>43.87113</td>\n      <td>-79.03333</td>\n    </tr>\n    <tr>\n      <th>4</th>\n      <td>2020-09-01</td>\n      <td>Education</td>\n      <td>Lakeside Public Elementary School</td>\n      <td>Renovation of existing school</td>\n      <td>Durham</td>\n      <td>Complete</td>\n      <td>504171</td>\n      <td>43.82344</td>\n      <td>-79.02777</td>\n    </tr>\n    <tr>\n      <th>5</th>\n      <td>2020-10-01</td>\n      <td>Education</td>\n      <td>Roland Michener Public Elementary School</td>\n      <td>Renovation of existing school</td>\n      <td>Durham</td>\n      <td>Complete</td>\n      <td>252086</td>\n      <td>43.85407</td>\n      <td>-79.0382</td>\n    </tr>\n  </tbody>\n</table>\n</div>"
     },
     "execution_count": 7,
     "metadata": {},
     "output_type": "execute_result"
    }
   ],
   "source": [
    "# converting the dates in the infrastructure df into a datetime\n",
    "def convert_to_datetime(date_str):\n",
    "    \"\"\"This function takes in a date in string formate and returns a date time\"\"\"\n",
    "    month_dict = {\n",
    "        'Jan': 1, 'Feb': 2, 'Mar': 3, 'Apr': 4, 'May': 5, 'Jun': 6,\n",
    "        'Jul': 7, 'Aug': 8, 'Sep': 9, 'Oct': 10, 'Nov': 11, 'Dec': 12\n",
    "    }\n",
    "    if '-' in date_str:\n",
    "        parts = date_str.split('-')\n",
    "        if len(parts) == 2:\n",
    "            if len(parts[0]) == 3:  # Month comes first\n",
    "                month, year = parts\n",
    "            else:  # Year comes first\n",
    "                year, month = parts\n",
    "        else:\n",
    "            return None  # Handle cases where the format is not as expected\n",
    "    else:\n",
    "        return None  # Handle cases where the format is not as expected\n",
    "\n",
    "    year = int(year)\n",
    "    month_num = month_dict[month]\n",
    "\n",
    "    return datetime(2000 + year, month_num, 1)\n",
    "\n",
    "# Convert 'Date' column to datetime\n",
    "complete_inf['Target Completion Date'] = complete_inf['Target Completion Date'].apply(convert_to_datetime)\n",
    "\n",
    "\n",
    "if pd.api.types.is_datetime64_any_dtype(complete_inf['Target Completion Date']):\n",
    "    print(\"The 'DateColumn' is of datetime data type.\")\n",
    "else:\n",
    "    print(\"The 'DateColumn' is not of datetime data type.\")\n",
    "\n",
    "# Display the updated GTA_infrastructure DataFrame\n",
    "complete_inf.head()"
   ]
  },
  {
   "cell_type": "markdown",
   "metadata": {},
   "source": [
    "To clean up our data set, let's remove any missing values"
   ]
  },
  {
   "cell_type": "code",
   "execution_count": 8,
   "metadata": {
    "colab": {
     "base_uri": "https://localhost:8080/"
    },
    "id": "n9g5Q3g4I-i3",
    "outputId": "43e0cec9-73af-444b-f7c4-69519fdb037d",
    "ExecuteTime": {
     "end_time": "2023-12-05T22:46:44.669021Z",
     "start_time": "2023-12-05T22:46:44.648270Z"
    }
   },
   "outputs": [
    {
     "name": "stdout",
     "output_type": "stream",
     "text": [
      "The DataFrame does not contain NaN or NaT values.\n"
     ]
    }
   ],
   "source": [
    "# removing missing date values from infrastructure dataframe\n",
    "complete_inf=complete_inf.dropna()\n",
    "has_missing_values = complete_inf.isna().any().any()\n",
    "\n",
    "\n",
    "if has_missing_values:\n",
    "    print(\"The DataFrame contains NaN or NaT values.\")\n",
    "else:\n",
    "    print(\"The DataFrame does not contain NaN or NaT values.\")"
   ]
  },
  {
   "cell_type": "markdown",
   "metadata": {},
   "source": [
    "We need to convert this data frame into a GeoDataFrame, which is possible using the longitude and latitude of each project."
   ]
  },
  {
   "cell_type": "code",
   "execution_count": 9,
   "metadata": {
    "colab": {
     "base_uri": "https://localhost:8080/",
     "height": 1000
    },
    "id": "xan9c7kfNu6t",
    "outputId": "b11f13b1-9cb5-434e-de6b-e6637ff5f39d",
    "ExecuteTime": {
     "end_time": "2023-12-05T22:46:46.546250Z",
     "start_time": "2023-12-05T22:46:46.417282Z"
    }
   },
   "outputs": [
    {
     "data": {
      "text/plain": "   Target Completion Date Supporting Ministry  \\\n1              2018-09-01           Education   \n2              2017-09-01           Education   \n3              2020-09-01           Education   \n4              2020-09-01           Education   \n5              2020-10-01           Education   \n13             2020-09-01           Education   \n14             2019-09-01           Education   \n20             2021-01-01           Education   \n22             2020-12-01           Education   \n24             2020-09-01           Education   \n26             2019-09-01           Education   \n27             2019-09-01           Education   \n28             2020-09-01           Education   \n29             2019-09-01           Education   \n30             2019-09-01           Education   \n31             2020-09-01           Education   \n32             2020-09-01           Education   \n33             2019-09-01           Education   \n34             2018-09-01           Education   \n43             2021-01-01           Education   \n\n                                            Project  \\\n1           Roméo Dallaire Public Elementary School   \n2   St Josephine Bakhita Catholic Elementary School   \n3        Dr Roberta Bondar Public Elementary School   \n4                 Lakeside Public Elementary School   \n5          Roland Michener Public Elementary School   \n13                                Aurora Children's   \n14      Social Enterprise for Canada Aurora EarlyON   \n20            Hickory Wood Public Elementary School   \n22             Worthington Public Elementary School   \n24           Holy Spirit Catholic Elementary School   \n26                       Brampton Southwest Library   \n27                   Brampton Northeast Supercentre   \n28                                     Caledon East   \n29                                Earlsbridge Plaza   \n30                          Fletcher's Meadow Plaza   \n31                                     Gore Meadows   \n32                              Inglewood Community   \n33                                       Springdale   \n34                                     YMCA Kennedy   \n43       McCaskill's Mills Public Elementary School   \n\n                        Description    Area    Status Estimated Total Budget  \\\n1     Renovation of existing school  Durham  Complete                1953948   \n2      Expansion of existing school  Durham  Complete                2405382   \n3     Renovation of existing school  Durham  Complete                 958164   \n4     Renovation of existing school  Durham  Complete                 504171   \n5     Renovation of existing school  Durham  Complete                 252086   \n13   Expansion of existing building    York  Complete                3000000   \n14   Expansion of existing building    York  Complete                 300000   \n20    Renovation of existing school    Peel  Complete                1326043   \n22    Renovation of existing school    Peel  Complete                1085961   \n24    Renovation of existing school    Peel  Complete                1512511   \n26  Renovation of existing building    Peel  Complete                 250000   \n27  Renovation of existing building    Peel  Complete                 750000   \n28  Renovation of existing building    Peel  Complete                 500000   \n29  Renovation of existing building    Peel  Complete                 500000   \n30  Renovation of existing building    Peel  Complete                 750000   \n31  Renovation of existing building    Peel  Complete                1250000   \n32   Expansion of existing building    Peel  Complete                1500000   \n33  Renovation of existing building    Peel  Complete                 500000   \n34    Renovation of existing school    Peel  Complete                 250000   \n43    Renovation of existing school  Durham  Complete                 504171   \n\n     Latitude  Longitude                    geometry  \n1   43.898230 -79.014720  POINT (-79.01472 43.89823)  \n2   43.891320 -79.031970  POINT (-79.03197 43.89132)  \n3   43.871130 -79.033330  POINT (-79.03333 43.87113)  \n4   43.823440 -79.027770  POINT (-79.02777 43.82344)  \n5   43.854070 -79.038200  POINT (-79.03820 43.85407)  \n13  43.962218 -79.467054  POINT (-79.46705 43.96222)  \n14  43.990408 -79.455347  POINT (-79.45535 43.99041)  \n20  43.646290 -79.742810  POINT (-79.74281 43.64629)  \n22  43.684440 -79.818770  POINT (-79.81877 43.68444)  \n24  43.784290 -79.729150  POINT (-79.72915 43.78429)  \n26  43.636007 -79.779594  POINT (-79.77959 43.63601)  \n27  43.771651 -79.780510  POINT (-79.78051 43.77165)  \n28  43.873805 -79.860737  POINT (-79.86074 43.87380)  \n29  43.702598 -79.829018  POINT (-79.82902 43.70260)  \n30  43.682982 -79.816638  POINT (-79.81664 43.68298)  \n31  43.792867 -79.692889  POINT (-79.69289 43.79287)  \n32  43.799717 -79.937213  POINT (-79.93721 43.79972)  \n33  43.760426 -79.727550  POINT (-79.72755 43.76043)  \n34  43.714974 -79.776496  POINT (-79.77650 43.71497)  \n43  44.346840 -79.045410  POINT (-79.04541 44.34684)  ",
      "text/html": "<div>\n<style scoped>\n    .dataframe tbody tr th:only-of-type {\n        vertical-align: middle;\n    }\n\n    .dataframe tbody tr th {\n        vertical-align: top;\n    }\n\n    .dataframe thead th {\n        text-align: right;\n    }\n</style>\n<table border=\"1\" class=\"dataframe\">\n  <thead>\n    <tr style=\"text-align: right;\">\n      <th></th>\n      <th>Target Completion Date</th>\n      <th>Supporting Ministry</th>\n      <th>Project</th>\n      <th>Description</th>\n      <th>Area</th>\n      <th>Status</th>\n      <th>Estimated Total Budget</th>\n      <th>Latitude</th>\n      <th>Longitude</th>\n      <th>geometry</th>\n    </tr>\n  </thead>\n  <tbody>\n    <tr>\n      <th>1</th>\n      <td>2018-09-01</td>\n      <td>Education</td>\n      <td>Roméo Dallaire Public Elementary School</td>\n      <td>Renovation of existing school</td>\n      <td>Durham</td>\n      <td>Complete</td>\n      <td>1953948</td>\n      <td>43.898230</td>\n      <td>-79.014720</td>\n      <td>POINT (-79.01472 43.89823)</td>\n    </tr>\n    <tr>\n      <th>2</th>\n      <td>2017-09-01</td>\n      <td>Education</td>\n      <td>St Josephine Bakhita Catholic Elementary School</td>\n      <td>Expansion of existing school</td>\n      <td>Durham</td>\n      <td>Complete</td>\n      <td>2405382</td>\n      <td>43.891320</td>\n      <td>-79.031970</td>\n      <td>POINT (-79.03197 43.89132)</td>\n    </tr>\n    <tr>\n      <th>3</th>\n      <td>2020-09-01</td>\n      <td>Education</td>\n      <td>Dr Roberta Bondar Public Elementary School</td>\n      <td>Renovation of existing school</td>\n      <td>Durham</td>\n      <td>Complete</td>\n      <td>958164</td>\n      <td>43.871130</td>\n      <td>-79.033330</td>\n      <td>POINT (-79.03333 43.87113)</td>\n    </tr>\n    <tr>\n      <th>4</th>\n      <td>2020-09-01</td>\n      <td>Education</td>\n      <td>Lakeside Public Elementary School</td>\n      <td>Renovation of existing school</td>\n      <td>Durham</td>\n      <td>Complete</td>\n      <td>504171</td>\n      <td>43.823440</td>\n      <td>-79.027770</td>\n      <td>POINT (-79.02777 43.82344)</td>\n    </tr>\n    <tr>\n      <th>5</th>\n      <td>2020-10-01</td>\n      <td>Education</td>\n      <td>Roland Michener Public Elementary School</td>\n      <td>Renovation of existing school</td>\n      <td>Durham</td>\n      <td>Complete</td>\n      <td>252086</td>\n      <td>43.854070</td>\n      <td>-79.038200</td>\n      <td>POINT (-79.03820 43.85407)</td>\n    </tr>\n    <tr>\n      <th>13</th>\n      <td>2020-09-01</td>\n      <td>Education</td>\n      <td>Aurora Children's</td>\n      <td>Expansion of existing building</td>\n      <td>York</td>\n      <td>Complete</td>\n      <td>3000000</td>\n      <td>43.962218</td>\n      <td>-79.467054</td>\n      <td>POINT (-79.46705 43.96222)</td>\n    </tr>\n    <tr>\n      <th>14</th>\n      <td>2019-09-01</td>\n      <td>Education</td>\n      <td>Social Enterprise for Canada Aurora EarlyON</td>\n      <td>Expansion of existing building</td>\n      <td>York</td>\n      <td>Complete</td>\n      <td>300000</td>\n      <td>43.990408</td>\n      <td>-79.455347</td>\n      <td>POINT (-79.45535 43.99041)</td>\n    </tr>\n    <tr>\n      <th>20</th>\n      <td>2021-01-01</td>\n      <td>Education</td>\n      <td>Hickory Wood Public Elementary School</td>\n      <td>Renovation of existing school</td>\n      <td>Peel</td>\n      <td>Complete</td>\n      <td>1326043</td>\n      <td>43.646290</td>\n      <td>-79.742810</td>\n      <td>POINT (-79.74281 43.64629)</td>\n    </tr>\n    <tr>\n      <th>22</th>\n      <td>2020-12-01</td>\n      <td>Education</td>\n      <td>Worthington Public Elementary School</td>\n      <td>Renovation of existing school</td>\n      <td>Peel</td>\n      <td>Complete</td>\n      <td>1085961</td>\n      <td>43.684440</td>\n      <td>-79.818770</td>\n      <td>POINT (-79.81877 43.68444)</td>\n    </tr>\n    <tr>\n      <th>24</th>\n      <td>2020-09-01</td>\n      <td>Education</td>\n      <td>Holy Spirit Catholic Elementary School</td>\n      <td>Renovation of existing school</td>\n      <td>Peel</td>\n      <td>Complete</td>\n      <td>1512511</td>\n      <td>43.784290</td>\n      <td>-79.729150</td>\n      <td>POINT (-79.72915 43.78429)</td>\n    </tr>\n    <tr>\n      <th>26</th>\n      <td>2019-09-01</td>\n      <td>Education</td>\n      <td>Brampton Southwest Library</td>\n      <td>Renovation of existing building</td>\n      <td>Peel</td>\n      <td>Complete</td>\n      <td>250000</td>\n      <td>43.636007</td>\n      <td>-79.779594</td>\n      <td>POINT (-79.77959 43.63601)</td>\n    </tr>\n    <tr>\n      <th>27</th>\n      <td>2019-09-01</td>\n      <td>Education</td>\n      <td>Brampton Northeast Supercentre</td>\n      <td>Renovation of existing building</td>\n      <td>Peel</td>\n      <td>Complete</td>\n      <td>750000</td>\n      <td>43.771651</td>\n      <td>-79.780510</td>\n      <td>POINT (-79.78051 43.77165)</td>\n    </tr>\n    <tr>\n      <th>28</th>\n      <td>2020-09-01</td>\n      <td>Education</td>\n      <td>Caledon East</td>\n      <td>Renovation of existing building</td>\n      <td>Peel</td>\n      <td>Complete</td>\n      <td>500000</td>\n      <td>43.873805</td>\n      <td>-79.860737</td>\n      <td>POINT (-79.86074 43.87380)</td>\n    </tr>\n    <tr>\n      <th>29</th>\n      <td>2019-09-01</td>\n      <td>Education</td>\n      <td>Earlsbridge Plaza</td>\n      <td>Renovation of existing building</td>\n      <td>Peel</td>\n      <td>Complete</td>\n      <td>500000</td>\n      <td>43.702598</td>\n      <td>-79.829018</td>\n      <td>POINT (-79.82902 43.70260)</td>\n    </tr>\n    <tr>\n      <th>30</th>\n      <td>2019-09-01</td>\n      <td>Education</td>\n      <td>Fletcher's Meadow Plaza</td>\n      <td>Renovation of existing building</td>\n      <td>Peel</td>\n      <td>Complete</td>\n      <td>750000</td>\n      <td>43.682982</td>\n      <td>-79.816638</td>\n      <td>POINT (-79.81664 43.68298)</td>\n    </tr>\n    <tr>\n      <th>31</th>\n      <td>2020-09-01</td>\n      <td>Education</td>\n      <td>Gore Meadows</td>\n      <td>Renovation of existing building</td>\n      <td>Peel</td>\n      <td>Complete</td>\n      <td>1250000</td>\n      <td>43.792867</td>\n      <td>-79.692889</td>\n      <td>POINT (-79.69289 43.79287)</td>\n    </tr>\n    <tr>\n      <th>32</th>\n      <td>2020-09-01</td>\n      <td>Education</td>\n      <td>Inglewood Community</td>\n      <td>Expansion of existing building</td>\n      <td>Peel</td>\n      <td>Complete</td>\n      <td>1500000</td>\n      <td>43.799717</td>\n      <td>-79.937213</td>\n      <td>POINT (-79.93721 43.79972)</td>\n    </tr>\n    <tr>\n      <th>33</th>\n      <td>2019-09-01</td>\n      <td>Education</td>\n      <td>Springdale</td>\n      <td>Renovation of existing building</td>\n      <td>Peel</td>\n      <td>Complete</td>\n      <td>500000</td>\n      <td>43.760426</td>\n      <td>-79.727550</td>\n      <td>POINT (-79.72755 43.76043)</td>\n    </tr>\n    <tr>\n      <th>34</th>\n      <td>2018-09-01</td>\n      <td>Education</td>\n      <td>YMCA Kennedy</td>\n      <td>Renovation of existing school</td>\n      <td>Peel</td>\n      <td>Complete</td>\n      <td>250000</td>\n      <td>43.714974</td>\n      <td>-79.776496</td>\n      <td>POINT (-79.77650 43.71497)</td>\n    </tr>\n    <tr>\n      <th>43</th>\n      <td>2021-01-01</td>\n      <td>Education</td>\n      <td>McCaskill's Mills Public Elementary School</td>\n      <td>Renovation of existing school</td>\n      <td>Durham</td>\n      <td>Complete</td>\n      <td>504171</td>\n      <td>44.346840</td>\n      <td>-79.045410</td>\n      <td>POINT (-79.04541 44.34684)</td>\n    </tr>\n  </tbody>\n</table>\n</div>"
     },
     "execution_count": 9,
     "metadata": {},
     "output_type": "execute_result"
    }
   ],
   "source": [
    "# converting lat and lon into one column called geometry\n",
    "complete_inf['Latitude'] = pd.to_numeric(complete_inf['Latitude'], errors='coerce')\n",
    "complete_inf['Longitude'] = pd.to_numeric(complete_inf['Longitude'], errors='coerce')\n",
    "\n",
    "infrastructure_gdf = gpd.GeoDataFrame(complete_inf,geometry=gpd.points_from_xy(complete_inf['Longitude'],\n",
    "                                                                               complete_inf['Latitude']))\n",
    "infrastructure_gdf.head(20)\n"
   ]
  },
  {
   "cell_type": "markdown",
   "metadata": {},
   "source": [
    "Now we can import the house data which was previously cleaned in an earlier notebook"
   ]
  },
  {
   "cell_type": "code",
   "execution_count": 10,
   "metadata": {
    "id": "ELXlvVoyN1Wh",
    "ExecuteTime": {
     "end_time": "2023-12-05T22:46:48.423385Z",
     "start_time": "2023-12-05T22:46:47.900944Z"
    }
   },
   "outputs": [],
   "source": [
    "#importing houses csv\n",
    "houses = pd.read_csv('houses_data_final.csv')\n",
    "\n",
    "# Create a geodataframe from the houses dataframe with longitude and latidue as geometry\n",
    "houses = gpd.GeoDataFrame(houses, geometry = gpd.points_from_xy(houses['propertyLng'], houses['propertyLat']))\n",
    "houses.crs = {'init': 'epsg:4326'}"
   ]
  },
  {
   "cell_type": "code",
   "execution_count": 11,
   "metadata": {
    "colab": {
     "base_uri": "https://localhost:8080/"
    },
    "id": "tnvaasd1zmxd",
    "outputId": "48cd8f8e-d5c3-4a7d-c7c5-564ad9adf178",
    "ExecuteTime": {
     "end_time": "2023-12-05T22:46:53.128371Z",
     "start_time": "2023-12-05T22:46:48.737576Z"
    }
   },
   "outputs": [
    {
     "name": "stdout",
     "output_type": "stream",
     "text": [
      "The 'DateColumn' is of datetime data type.\n"
     ]
    }
   ],
   "source": [
    "# converting the dates in the houses df into a datetime\n",
    "houses['Date'] = pd.to_datetime(houses['List Date'])\n",
    "houses.drop(columns = ['List Date'], inplace = True)\n",
    "\n",
    "if pd.api.types.is_datetime64_any_dtype(houses['Date']):\n",
    "    print(\"The 'DateColumn' is of datetime data type.\")\n",
    "else:\n",
    "    print(\"The 'DateColumn' is not of datetime data type.\")"
   ]
  },
  {
   "cell_type": "markdown",
   "metadata": {},
   "source": [
    "By changing this radius around each home we determined that a radius of 2 km yields the best results. We will create a cirlce as a radius of influence around each house."
   ]
  },
  {
   "cell_type": "code",
   "execution_count": 12,
   "metadata": {
    "id": "QtdI2XVoOAif",
    "ExecuteTime": {
     "end_time": "2023-12-05T22:46:58.772609Z",
     "start_time": "2023-12-05T22:46:53.130226Z"
    }
   },
   "outputs": [],
   "source": [
    "# creating radius around each home address\n",
    "def create_circle(point, radius_meters=2000):\n",
    "    # Convert radius from meters to degrees (approximate)\n",
    "    radius_degrees = radius_meters / (40008000 / 360)\n",
    "\n",
    "    # Create a buffer (circle) around the point\n",
    "    circle = point.buffer(radius_degrees)\n",
    "\n",
    "    return circle\n",
    "\n",
    "houses_gdf = gpd.GeoDataFrame(houses, geometry='geometry')\n",
    "houses_gdf['circle'] = houses_gdf['geometry'].apply(create_circle)"
   ]
  },
  {
   "cell_type": "code",
   "execution_count": 13,
   "metadata": {
    "colab": {
     "base_uri": "https://localhost:8080/"
    },
    "id": "FzoY2nd7OD2f",
    "outputId": "40f07cd8-bc7d-4b17-a6a2-4cdda9da540a",
    "ExecuteTime": {
     "end_time": "2023-12-05T22:46:58.841152Z",
     "start_time": "2023-12-05T22:46:58.770740Z"
    }
   },
   "outputs": [
    {
     "data": {
      "text/plain": "0    POLYGON ((-79.54270 43.73370, -79.54279 43.731...\n1    POLYGON ((-79.44310 43.76160, -79.44319 43.759...\n2    POLYGON ((-79.44430 43.72140, -79.44439 43.719...\n3    POLYGON ((-79.57010 43.72570, -79.57019 43.723...\n4    POLYGON ((-79.39240 43.72660, -79.39249 43.724...\nName: geometry, dtype: geometry"
     },
     "execution_count": 13,
     "metadata": {},
     "output_type": "execute_result"
    }
   ],
   "source": [
    "#renamed columns so that geometry of houses_gdf is now a polygon\n",
    "houses_gdf = houses_gdf.rename(columns={'geometry': 'point'})\n",
    "houses_gdf = houses_gdf.rename(columns={'circle': 'geometry'})\n",
    "\n",
    "houses_gdf.geometry.head()"
   ]
  },
  {
   "cell_type": "code",
   "execution_count": 14,
   "metadata": {
    "colab": {
     "base_uri": "https://localhost:8080/"
    },
    "id": "EnepbmBoOGag",
    "outputId": "638f45bc-3205-44d2-f821-4cdc4b89578a",
    "ExecuteTime": {
     "end_time": "2023-12-05T22:46:58.852343Z",
     "start_time": "2023-12-05T22:46:58.844028Z"
    }
   },
   "outputs": [
    {
     "data": {
      "text/plain": "1    POINT (-79.01472 43.89823)\n2    POINT (-79.03197 43.89132)\n3    POINT (-79.03333 43.87113)\n4    POINT (-79.02777 43.82344)\n5    POINT (-79.03820 43.85407)\nName: geometry, dtype: geometry"
     },
     "execution_count": 14,
     "metadata": {},
     "output_type": "execute_result"
    }
   ],
   "source": [
    "infrastructure_gdf.geometry.head()"
   ]
  },
  {
   "cell_type": "markdown",
   "metadata": {},
   "source": [
    "We will only be able to work with numerical data, so let's remove any non-numeric data from the budget columns"
   ]
  },
  {
   "cell_type": "code",
   "execution_count": 15,
   "metadata": {
    "colab": {
     "base_uri": "https://localhost:8080/"
    },
    "id": "kl8LqTnbOILL",
    "outputId": "858c0790-301b-4468-9bcf-c3313fec9433",
    "ExecuteTime": {
     "end_time": "2023-12-05T22:46:58.893306Z",
     "start_time": "2023-12-05T22:46:58.853068Z"
    }
   },
   "outputs": [
    {
     "name": "stdout",
     "output_type": "stream",
     "text": [
      "<class 'geopandas.geodataframe.GeoDataFrame'>\n",
      "Index: 696 entries, 1 to 4886\n",
      "Data columns (total 10 columns):\n",
      " #   Column                  Non-Null Count  Dtype         \n",
      "---  ------                  --------------  -----         \n",
      " 0   Target Completion Date  696 non-null    datetime64[ns]\n",
      " 1   Supporting Ministry     696 non-null    object        \n",
      " 2   Project                 696 non-null    object        \n",
      " 3   Description             696 non-null    object        \n",
      " 4   Area                    696 non-null    object        \n",
      " 5   Status                  696 non-null    object        \n",
      " 6   Estimated Total Budget  696 non-null    int64         \n",
      " 7   Latitude                694 non-null    float64       \n",
      " 8   Longitude               694 non-null    float64       \n",
      " 9   geometry                696 non-null    geometry      \n",
      "dtypes: datetime64[ns](1), float64(2), geometry(1), int64(1), object(5)\n",
      "memory usage: 59.8+ KB\n"
     ]
    }
   ],
   "source": [
    "# removing any non-numeric budget from estimated total budget column in infrastructure df\n",
    "infrastructure_gdf['Estimated Total Budget'] = pd.to_numeric(infrastructure_gdf['Estimated Total Budget'],\n",
    "                                                             errors='coerce')\n",
    "infrastructure_gdf.dropna(subset=['Estimated Total Budget'], inplace=True)\n",
    "\n",
    "infrastructure_gdf.info()"
   ]
  },
  {
   "cell_type": "code",
   "execution_count": 16,
   "metadata": {
    "colab": {
     "base_uri": "https://localhost:8080/",
     "height": 1000
    },
    "id": "ylSlH7xXiirC",
    "outputId": "814927a6-4895-43f3-c78b-b772d363901e",
    "ExecuteTime": {
     "end_time": "2023-12-05T22:46:58.990038Z",
     "start_time": "2023-12-05T22:46:58.924003Z"
    }
   },
   "outputs": [
    {
     "data": {
      "text/plain": "   Unnamed: 0             address isResidentialProperty  propertyLat  \\\n0           0  82-riverdale-drive                 true,      43.7337   \n1           1  185-honiton-street                 true,      43.7616   \n2           2    75-mcadam-avenue                 true,      43.7214   \n3           3    155-mercury-road                 true,      43.7257   \n4           4   227-woburn-avenue                 true,      43.7266   \n\n   propertyLng searchNeighborhood  Sold Price  Original Price           Type  \\\n0     -79.5607                \"\",   1100000.0       1195000.0             D.   \n1     -79.4611                \"\",   1008888.0        998000.0             D.   \n2     -79.4623                \"\",    830000.0        879000.0             D.   \n3     -79.5881                \"\",         NaN             NaN       Detached   \n4     -79.4104                \"\",   1425000.0             NaN  Semi-Detached   \n\n         Style  ... Parking Total Furnished Laundry Access  Private Entrance  \\\n0     2-Storey  ...           NaN       NaN            NaN               NaN   \n1  Sidesplit 4  ...           NaN       NaN            NaN               NaN   \n2    Bungaloft  ...           NaN       NaN            NaN               NaN   \n3     2-Storey  ...           6.0       NaN            NaN               NaN   \n4     2-Storey  ...           1.0       NaN            NaN               NaN   \n\n   Lease Term  Ensuite Laundry  Property Type                       point  \\\n0         NaN              NaN            NaN  POINT (-79.56070 43.73370)   \n1         NaN              NaN            NaN  POINT (-79.46110 43.76160)   \n2         NaN              NaN            NaN  POINT (-79.46230 43.72140)   \n3         NaN              NaN            NaN  POINT (-79.58810 43.72570)   \n4         NaN              NaN            NaN  POINT (-79.41040 43.72660)   \n\n        Date                                           geometry  \n0 2013-11-29  POLYGON ((-79.54270 43.73370, -79.54279 43.731...  \n1 2014-09-19  POLYGON ((-79.44310 43.76160, -79.44319 43.759...  \n2 2014-12-05  POLYGON ((-79.44430 43.72140, -79.44439 43.719...  \n3 2021-03-24  POLYGON ((-79.57010 43.72570, -79.57019 43.723...  \n4 2020-08-18  POLYGON ((-79.39240 43.72660, -79.39249 43.724...  \n\n[5 rows x 54 columns]",
      "text/html": "<div>\n<style scoped>\n    .dataframe tbody tr th:only-of-type {\n        vertical-align: middle;\n    }\n\n    .dataframe tbody tr th {\n        vertical-align: top;\n    }\n\n    .dataframe thead th {\n        text-align: right;\n    }\n</style>\n<table border=\"1\" class=\"dataframe\">\n  <thead>\n    <tr style=\"text-align: right;\">\n      <th></th>\n      <th>Unnamed: 0</th>\n      <th>address</th>\n      <th>isResidentialProperty</th>\n      <th>propertyLat</th>\n      <th>propertyLng</th>\n      <th>searchNeighborhood</th>\n      <th>Sold Price</th>\n      <th>Original Price</th>\n      <th>Type</th>\n      <th>Style</th>\n      <th>...</th>\n      <th>Parking Total</th>\n      <th>Furnished</th>\n      <th>Laundry Access</th>\n      <th>Private Entrance</th>\n      <th>Lease Term</th>\n      <th>Ensuite Laundry</th>\n      <th>Property Type</th>\n      <th>point</th>\n      <th>Date</th>\n      <th>geometry</th>\n    </tr>\n  </thead>\n  <tbody>\n    <tr>\n      <th>0</th>\n      <td>0</td>\n      <td>82-riverdale-drive</td>\n      <td>true,</td>\n      <td>43.7337</td>\n      <td>-79.5607</td>\n      <td>\"\",</td>\n      <td>1100000.0</td>\n      <td>1195000.0</td>\n      <td>D.</td>\n      <td>2-Storey</td>\n      <td>...</td>\n      <td>NaN</td>\n      <td>NaN</td>\n      <td>NaN</td>\n      <td>NaN</td>\n      <td>NaN</td>\n      <td>NaN</td>\n      <td>NaN</td>\n      <td>POINT (-79.56070 43.73370)</td>\n      <td>2013-11-29</td>\n      <td>POLYGON ((-79.54270 43.73370, -79.54279 43.731...</td>\n    </tr>\n    <tr>\n      <th>1</th>\n      <td>1</td>\n      <td>185-honiton-street</td>\n      <td>true,</td>\n      <td>43.7616</td>\n      <td>-79.4611</td>\n      <td>\"\",</td>\n      <td>1008888.0</td>\n      <td>998000.0</td>\n      <td>D.</td>\n      <td>Sidesplit 4</td>\n      <td>...</td>\n      <td>NaN</td>\n      <td>NaN</td>\n      <td>NaN</td>\n      <td>NaN</td>\n      <td>NaN</td>\n      <td>NaN</td>\n      <td>NaN</td>\n      <td>POINT (-79.46110 43.76160)</td>\n      <td>2014-09-19</td>\n      <td>POLYGON ((-79.44310 43.76160, -79.44319 43.759...</td>\n    </tr>\n    <tr>\n      <th>2</th>\n      <td>2</td>\n      <td>75-mcadam-avenue</td>\n      <td>true,</td>\n      <td>43.7214</td>\n      <td>-79.4623</td>\n      <td>\"\",</td>\n      <td>830000.0</td>\n      <td>879000.0</td>\n      <td>D.</td>\n      <td>Bungaloft</td>\n      <td>...</td>\n      <td>NaN</td>\n      <td>NaN</td>\n      <td>NaN</td>\n      <td>NaN</td>\n      <td>NaN</td>\n      <td>NaN</td>\n      <td>NaN</td>\n      <td>POINT (-79.46230 43.72140)</td>\n      <td>2014-12-05</td>\n      <td>POLYGON ((-79.44430 43.72140, -79.44439 43.719...</td>\n    </tr>\n    <tr>\n      <th>3</th>\n      <td>3</td>\n      <td>155-mercury-road</td>\n      <td>true,</td>\n      <td>43.7257</td>\n      <td>-79.5881</td>\n      <td>\"\",</td>\n      <td>NaN</td>\n      <td>NaN</td>\n      <td>Detached</td>\n      <td>2-Storey</td>\n      <td>...</td>\n      <td>6.0</td>\n      <td>NaN</td>\n      <td>NaN</td>\n      <td>NaN</td>\n      <td>NaN</td>\n      <td>NaN</td>\n      <td>NaN</td>\n      <td>POINT (-79.58810 43.72570)</td>\n      <td>2021-03-24</td>\n      <td>POLYGON ((-79.57010 43.72570, -79.57019 43.723...</td>\n    </tr>\n    <tr>\n      <th>4</th>\n      <td>4</td>\n      <td>227-woburn-avenue</td>\n      <td>true,</td>\n      <td>43.7266</td>\n      <td>-79.4104</td>\n      <td>\"\",</td>\n      <td>1425000.0</td>\n      <td>NaN</td>\n      <td>Semi-Detached</td>\n      <td>2-Storey</td>\n      <td>...</td>\n      <td>1.0</td>\n      <td>NaN</td>\n      <td>NaN</td>\n      <td>NaN</td>\n      <td>NaN</td>\n      <td>NaN</td>\n      <td>NaN</td>\n      <td>POINT (-79.41040 43.72660)</td>\n      <td>2020-08-18</td>\n      <td>POLYGON ((-79.39240 43.72660, -79.39249 43.724...</td>\n    </tr>\n  </tbody>\n</table>\n<p>5 rows × 54 columns</p>\n</div>"
     },
     "execution_count": 16,
     "metadata": {},
     "output_type": "execute_result"
    }
   ],
   "source": [
    "houses_gdf.head()"
   ]
  },
  {
   "cell_type": "markdown",
   "metadata": {},
   "source": [
    "Now add the required columns to the houses_gdf, for now will the values with 0"
   ]
  },
  {
   "cell_type": "code",
   "execution_count": 17,
   "metadata": {
    "id": "3MWa6wAZSZzS",
    "ExecuteTime": {
     "end_time": "2023-12-05T22:46:58.991373Z",
     "start_time": "2023-12-05T22:46:58.934832Z"
    }
   },
   "outputs": [],
   "source": [
    "houses_gdf[\"Education investment in area\"] = 0\n",
    "houses_gdf[\"Transportation investment in area\"] = 0\n",
    "houses_gdf[\"Colleges/Universities investment in area\"] = 0\n",
    "houses_gdf[\"Health investment in area\"] = 0\n",
    "houses_gdf[\"Other investment in area\"] = 0"
   ]
  },
  {
   "cell_type": "markdown",
   "metadata": {},
   "source": [
    "Finally, we can loop through all the infrastructure projects for all the houses and check if there are in that house's radius of influence and completed before that house was listed.  Then we can add the amount of budget, or money invested in that area, to that house.  Note: this takes a very long time. An iloc command has been added in lines 2 and 4 to only allow this loop to go through the first 50 infrastructure projects for the first 100 properties. If you would like to run on all the properties and projects, remove the iloc.  "
   ]
  },
  {
   "cell_type": "code",
   "execution_count": 18,
   "metadata": {
    "colab": {
     "background_save": true
    },
    "id": "s5NA2d7xOMHO",
    "ExecuteTime": {
     "end_time": "2023-12-05T22:47:02.731114Z",
     "start_time": "2023-12-05T22:47:01.960987Z"
    }
   },
   "outputs": [
    {
     "data": {
      "text/plain": "   Unnamed: 0             address isResidentialProperty  propertyLat  \\\n0           0  82-riverdale-drive                 true,      43.7337   \n1           1  185-honiton-street                 true,      43.7616   \n2           2    75-mcadam-avenue                 true,      43.7214   \n3           3    155-mercury-road                 true,      43.7257   \n4           4   227-woburn-avenue                 true,      43.7266   \n\n   propertyLng searchNeighborhood  Sold Price  Original Price           Type  \\\n0     -79.5607                \"\",   1100000.0       1195000.0             D.   \n1     -79.4611                \"\",   1008888.0        998000.0             D.   \n2     -79.4623                \"\",    830000.0        879000.0             D.   \n3     -79.5881                \"\",         NaN             NaN       Detached   \n4     -79.4104                \"\",   1425000.0             NaN  Semi-Detached   \n\n         Style  ... Ensuite Laundry Property Type                       point  \\\n0     2-Storey  ...             NaN           NaN  POINT (-79.56070 43.73370)   \n1  Sidesplit 4  ...             NaN           NaN  POINT (-79.46110 43.76160)   \n2    Bungaloft  ...             NaN           NaN  POINT (-79.46230 43.72140)   \n3     2-Storey  ...             NaN           NaN  POINT (-79.58810 43.72570)   \n4     2-Storey  ...             NaN           NaN  POINT (-79.41040 43.72660)   \n\n        Date                                           geometry  \\\n0 2013-11-29  POLYGON ((-79.54270 43.73370, -79.54279 43.731...   \n1 2014-09-19  POLYGON ((-79.44310 43.76160, -79.44319 43.759...   \n2 2014-12-05  POLYGON ((-79.44430 43.72140, -79.44439 43.719...   \n3 2021-03-24  POLYGON ((-79.57010 43.72570, -79.57019 43.723...   \n4 2020-08-18  POLYGON ((-79.39240 43.72660, -79.39249 43.724...   \n\n   Education investment in area  Transportation investment in area  \\\n0                             0                                  0   \n1                             0                                  0   \n2                             0                                  0   \n3                             0                                  0   \n4                             0                                  0   \n\n   Colleges/Universities investment in area Health investment in area  \\\n0                                         0                         0   \n1                                         0                         0   \n2                                         0                         0   \n3                                         0                         0   \n4                                         0                         0   \n\n  Other investment in area  \n0                        0  \n1                        0  \n2                        0  \n3                        0  \n4                        0  \n\n[5 rows x 59 columns]",
      "text/html": "<div>\n<style scoped>\n    .dataframe tbody tr th:only-of-type {\n        vertical-align: middle;\n    }\n\n    .dataframe tbody tr th {\n        vertical-align: top;\n    }\n\n    .dataframe thead th {\n        text-align: right;\n    }\n</style>\n<table border=\"1\" class=\"dataframe\">\n  <thead>\n    <tr style=\"text-align: right;\">\n      <th></th>\n      <th>Unnamed: 0</th>\n      <th>address</th>\n      <th>isResidentialProperty</th>\n      <th>propertyLat</th>\n      <th>propertyLng</th>\n      <th>searchNeighborhood</th>\n      <th>Sold Price</th>\n      <th>Original Price</th>\n      <th>Type</th>\n      <th>Style</th>\n      <th>...</th>\n      <th>Ensuite Laundry</th>\n      <th>Property Type</th>\n      <th>point</th>\n      <th>Date</th>\n      <th>geometry</th>\n      <th>Education investment in area</th>\n      <th>Transportation investment in area</th>\n      <th>Colleges/Universities investment in area</th>\n      <th>Health investment in area</th>\n      <th>Other investment in area</th>\n    </tr>\n  </thead>\n  <tbody>\n    <tr>\n      <th>0</th>\n      <td>0</td>\n      <td>82-riverdale-drive</td>\n      <td>true,</td>\n      <td>43.7337</td>\n      <td>-79.5607</td>\n      <td>\"\",</td>\n      <td>1100000.0</td>\n      <td>1195000.0</td>\n      <td>D.</td>\n      <td>2-Storey</td>\n      <td>...</td>\n      <td>NaN</td>\n      <td>NaN</td>\n      <td>POINT (-79.56070 43.73370)</td>\n      <td>2013-11-29</td>\n      <td>POLYGON ((-79.54270 43.73370, -79.54279 43.731...</td>\n      <td>0</td>\n      <td>0</td>\n      <td>0</td>\n      <td>0</td>\n      <td>0</td>\n    </tr>\n    <tr>\n      <th>1</th>\n      <td>1</td>\n      <td>185-honiton-street</td>\n      <td>true,</td>\n      <td>43.7616</td>\n      <td>-79.4611</td>\n      <td>\"\",</td>\n      <td>1008888.0</td>\n      <td>998000.0</td>\n      <td>D.</td>\n      <td>Sidesplit 4</td>\n      <td>...</td>\n      <td>NaN</td>\n      <td>NaN</td>\n      <td>POINT (-79.46110 43.76160)</td>\n      <td>2014-09-19</td>\n      <td>POLYGON ((-79.44310 43.76160, -79.44319 43.759...</td>\n      <td>0</td>\n      <td>0</td>\n      <td>0</td>\n      <td>0</td>\n      <td>0</td>\n    </tr>\n    <tr>\n      <th>2</th>\n      <td>2</td>\n      <td>75-mcadam-avenue</td>\n      <td>true,</td>\n      <td>43.7214</td>\n      <td>-79.4623</td>\n      <td>\"\",</td>\n      <td>830000.0</td>\n      <td>879000.0</td>\n      <td>D.</td>\n      <td>Bungaloft</td>\n      <td>...</td>\n      <td>NaN</td>\n      <td>NaN</td>\n      <td>POINT (-79.46230 43.72140)</td>\n      <td>2014-12-05</td>\n      <td>POLYGON ((-79.44430 43.72140, -79.44439 43.719...</td>\n      <td>0</td>\n      <td>0</td>\n      <td>0</td>\n      <td>0</td>\n      <td>0</td>\n    </tr>\n    <tr>\n      <th>3</th>\n      <td>3</td>\n      <td>155-mercury-road</td>\n      <td>true,</td>\n      <td>43.7257</td>\n      <td>-79.5881</td>\n      <td>\"\",</td>\n      <td>NaN</td>\n      <td>NaN</td>\n      <td>Detached</td>\n      <td>2-Storey</td>\n      <td>...</td>\n      <td>NaN</td>\n      <td>NaN</td>\n      <td>POINT (-79.58810 43.72570)</td>\n      <td>2021-03-24</td>\n      <td>POLYGON ((-79.57010 43.72570, -79.57019 43.723...</td>\n      <td>0</td>\n      <td>0</td>\n      <td>0</td>\n      <td>0</td>\n      <td>0</td>\n    </tr>\n    <tr>\n      <th>4</th>\n      <td>4</td>\n      <td>227-woburn-avenue</td>\n      <td>true,</td>\n      <td>43.7266</td>\n      <td>-79.4104</td>\n      <td>\"\",</td>\n      <td>1425000.0</td>\n      <td>NaN</td>\n      <td>Semi-Detached</td>\n      <td>2-Storey</td>\n      <td>...</td>\n      <td>NaN</td>\n      <td>NaN</td>\n      <td>POINT (-79.41040 43.72660)</td>\n      <td>2020-08-18</td>\n      <td>POLYGON ((-79.39240 43.72660, -79.39249 43.724...</td>\n      <td>0</td>\n      <td>0</td>\n      <td>0</td>\n      <td>0</td>\n      <td>0</td>\n    </tr>\n  </tbody>\n</table>\n<p>5 rows × 59 columns</p>\n</div>"
     },
     "execution_count": 18,
     "metadata": {},
     "output_type": "execute_result"
    }
   ],
   "source": [
    "# this loop checks if a project is in the radius of influence and before the houses list data\n",
    "for index, inf_row in infrastructure_gdf.iloc[0:50].iterrows():\n",
    "    is_within=[]\n",
    "    for _, house_row in houses_gdf.iloc[0:100].iterrows():\n",
    "        if inf_row['geometry'].within(house_row['geometry']) and (\n",
    "            inf_row['Target Completion Date'] <= house_row['Date']):\n",
    "            is_within.append(True)\n",
    "        else:\n",
    "            is_within.append(False)\n",
    "            #indeces of the houses where the infrastructure exists in\n",
    "            true_indices = [i for i, value in enumerate(is_within) if value]\n",
    "\n",
    "# Adding the value to each column of the matching rows\n",
    "for idx in true_indices:\n",
    "    if inf_row['Supporting Ministry'] == \"Education\":\n",
    "        houses_gdf.loc[idx, 'Education investment in area'] += inf_row['Estimated Total Budget']\n",
    "    elif inf_row['Supporting Ministry'] == \"Transportation\":\n",
    "        houses_gdf.loc[idx, 'Transportation investment in area'] += inf_row['Estimated Total Budget']\n",
    "    elif inf_row['Supporting Ministry'] == \"Colleges and Universities\":\n",
    "        houses_gdf.loc[idx, 'Colleges/Universities investment in area'] += inf_row['Estimated Total Budget']\n",
    "    elif inf_row['Supporting Ministry'] == \"Health\":\n",
    "        houses_gdf.loc[idx, 'Health investment in area'] += inf_row['Estimated Total Budget']\n",
    "    else:\n",
    "        houses_gdf.loc[idx, 'Other investment in area'] += inf_row['Estimated Total Budget']\n",
    "\n",
    "houses_gdf.head()"
   ]
  },
  {
   "cell_type": "markdown",
   "metadata": {},
   "source": [
    "Now let's export our csv.  Note that the completed Houses_Infrastructure_2km.csv is provided in the repository, so there is no need to overwrite it if you did not go through all the houses and projects in the above loop."
   ]
  },
  {
   "cell_type": "code",
   "execution_count": null,
   "metadata": {
    "colab": {
     "background_save": true
    },
    "id": "ClyWq9iOQzCK"
   },
   "outputs": [],
   "source": [
    "# select relevent columns\n",
    "houses_gdf = houses_gdf['address', 'Education investment in area', 'Transportation investment in area', \n",
    "                        'Colleges/Universities investment in area', 'Health investment in area',\n",
    "                        'Other investment in area']\n",
    "houses_gdf.to_csv('Houses_Infrastructure_2km.csv')"
   ]
  }
 ],
 "metadata": {
  "colab": {
   "provenance": []
  },
  "kernelspec": {
   "display_name": "Python 3 (ipykernel)",
   "language": "python",
   "name": "python3"
  },
  "language_info": {
   "codemirror_mode": {
    "name": "ipython",
    "version": 3
   },
   "file_extension": ".py",
   "mimetype": "text/x-python",
   "name": "python",
   "nbconvert_exporter": "python",
   "pygments_lexer": "ipython3",
   "version": "3.11.4"
  }
 },
 "nbformat": 4,
 "nbformat_minor": 1
}
